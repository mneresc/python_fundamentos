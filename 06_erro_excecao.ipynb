{
 "cells": [
  {
   "cell_type": "markdown",
   "metadata": {},
   "source": [
    "# Erros e exceções"
   ]
  },
  {
   "cell_type": "code",
   "execution_count": 2,
   "metadata": {},
   "outputs": [
    {
     "name": "stdout",
     "output_type": "stream",
     "text": [
      "Não faço isso não\n"
     ]
    }
   ],
   "source": [
    "try:\n",
    "    8 + 's'\n",
    "except TypeError:\n",
    "    print('Não faço isso não')"
   ]
  },
  {
   "cell_type": "code",
   "execution_count": 8,
   "metadata": {},
   "outputs": [
    {
     "name": "stdout",
     "output_type": "stream",
     "text": [
      "O arquivo não está disponível pra escrita\n",
      "exec\n"
     ]
    }
   ],
   "source": [
    "try:\n",
    "    f = open('arquivo/nothing','w')\n",
    "except IOError:\n",
    "    print('O arquivo não está disponível pra escrita')\n",
    "else:\n",
    "    print('Erro genérico')\n",
    "finally:\n",
    "    print('exec')"
   ]
  },
  {
   "cell_type": "code",
   "execution_count": 14,
   "metadata": {},
   "outputs": [
    {
     "name": "stdout",
     "output_type": "stream",
     "text": [
      "O arquivo não está disponível pra escrita:  [Errno 2] No such file or directory: 'arquivo/nothing'\n",
      "exec\n"
     ]
    }
   ],
   "source": [
    "try:\n",
    "    f = open('arquivo/nothing','w')\n",
    "except IOError as ioerr:\n",
    "    print('O arquivo não está disponível pra escrita: ', ioerr)\n",
    "except FileNotFoundError as e:\n",
    "    print('Erro genérico', e)\n",
    "finally:\n",
    "    print('exec')"
   ]
  }
 ],
 "metadata": {
  "kernelspec": {
   "display_name": "Python 3",
   "language": "python",
   "name": "python3"
  },
  "language_info": {
   "codemirror_mode": {
    "name": "ipython",
    "version": 3
   },
   "file_extension": ".py",
   "mimetype": "text/x-python",
   "name": "python",
   "nbconvert_exporter": "python",
   "pygments_lexer": "ipython3",
   "version": "3.8.3"
  }
 },
 "nbformat": 4,
 "nbformat_minor": 4
}
