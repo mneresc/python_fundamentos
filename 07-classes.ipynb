{
 "cells": [
  {
   "cell_type": "markdown",
   "metadata": {},
   "source": [
    "# Classes"
   ]
  },
  {
   "cell_type": "code",
   "execution_count": 28,
   "metadata": {},
   "outputs": [],
   "source": [
    "class Livro():\n",
    "#     construtor\n",
    "    def __init__(self,titulo,isbn):\n",
    "        self.isbn = isbn\n",
    "        self.titulo = titulo\n",
    "    \n",
    "    def __str__(self):\n",
    "        return 'Objeto do tipo Livro'\n",
    "    \n",
    "    def imprimir(self):\n",
    "        print(\"Foi criado o livro %s com isbn %d\" %(self.titulo ,self.isbn))"
   ]
  },
  {
   "cell_type": "code",
   "execution_count": 29,
   "metadata": {},
   "outputs": [
    {
     "name": "stdout",
     "output_type": "stream",
     "text": [
      "Foi criado o livro Damaphada com isbn 123456\n"
     ]
    }
   ],
   "source": [
    "livro1 = Livro('Damaphada',123456)\n",
    "livro1.imprimir()"
   ]
  },
  {
   "cell_type": "code",
   "execution_count": 30,
   "metadata": {},
   "outputs": [
    {
     "name": "stdout",
     "output_type": "stream",
     "text": [
      "Objeto do tipo Livro\n"
     ]
    }
   ],
   "source": [
    "print(str(livro1))"
   ]
  },
  {
   "cell_type": "code",
   "execution_count": 3,
   "metadata": {},
   "outputs": [
    {
     "data": {
      "text/plain": [
       "True"
      ]
     },
     "execution_count": 3,
     "metadata": {},
     "output_type": "execute_result"
    }
   ],
   "source": [
    "hasattr(livro1,'isbn')"
   ]
  },
  {
   "cell_type": "code",
   "execution_count": 4,
   "metadata": {},
   "outputs": [
    {
     "data": {
      "text/plain": [
       "123456"
      ]
     },
     "execution_count": 4,
     "metadata": {},
     "output_type": "execute_result"
    }
   ],
   "source": [
    "getattr(livro1,'isbn')"
   ]
  },
  {
   "cell_type": "code",
   "execution_count": 5,
   "metadata": {},
   "outputs": [
    {
     "data": {
      "text/plain": [
       "False"
      ]
     },
     "execution_count": 5,
     "metadata": {},
     "output_type": "execute_result"
    }
   ],
   "source": [
    "delattr(livro1,'isbn')\n",
    "hasattr(livro1,'isbn')"
   ]
  },
  {
   "cell_type": "markdown",
   "metadata": {},
   "source": [
    "### Herança"
   ]
  },
  {
   "cell_type": "code",
   "execution_count": 10,
   "metadata": {},
   "outputs": [],
   "source": [
    "class LivroFilosofia(Livro):\n",
    "    def __init__(self,titulo,isbn,filosofo):\n",
    "        Livro.__init__(self,titulo,isbn)\n",
    "        self.filosofo = filosofo\n",
    "        \n",
    "    def getFilosofo(self):\n",
    "        return self.filosofo\n",
    "    \n",
    "    def imprimir(self):\n",
    "        print(\"Foi criado o livro %s com isbn %d do filosofo %s\" %(self.titulo ,self.isbn,self.filosofo))"
   ]
  },
  {
   "cell_type": "code",
   "execution_count": 31,
   "metadata": {},
   "outputs": [
    {
     "name": "stdout",
     "output_type": "stream",
     "text": [
      "Foi criado o livro República com isbn 111 do filosofo Platão\n",
      "Platão\n"
     ]
    }
   ],
   "source": [
    "livroFilos = LivroFilosofia('República',111,'Platão')\n",
    "livroFilos.imprimir()\n",
    "print(livroFilos.getFilosofo())"
   ]
  },
  {
   "cell_type": "code",
   "execution_count": null,
   "metadata": {},
   "outputs": [],
   "source": []
  },
  {
   "cell_type": "code",
   "execution_count": null,
   "metadata": {},
   "outputs": [],
   "source": []
  }
 ],
 "metadata": {
  "kernelspec": {
   "display_name": "Python 3",
   "language": "python",
   "name": "python3"
  },
  "language_info": {
   "codemirror_mode": {
    "name": "ipython",
    "version": 3
   },
   "file_extension": ".py",
   "mimetype": "text/x-python",
   "name": "python",
   "nbconvert_exporter": "python",
   "pygments_lexer": "ipython3",
   "version": "3.8.3"
  }
 },
 "nbformat": 4,
 "nbformat_minor": 4
}
