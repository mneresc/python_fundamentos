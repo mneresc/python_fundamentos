{
 "cells": [
  {
   "cell_type": "markdown",
   "metadata": {},
   "source": [
    "# <font color='blue'>Data Science Academy - Python Fundamentos - Capítulo 8</font>\n",
    "\n",
    "## Download: http://github.com/dsacademybr"
   ]
  },
  {
   "cell_type": "code",
   "execution_count": null,
   "metadata": {},
   "outputs": [],
   "source": [
    "# Versão da Linguagem Python\n",
    "from platform import python_version\n",
    "print('Versão da Linguagem Python Usada Neste Jupyter Notebook:', python_version())"
   ]
  },
  {
   "cell_type": "markdown",
   "metadata": {},
   "source": [
    "### Exercícios Sobre Módulos Python Para Análise de Dados"
   ]
  },
  {
   "cell_type": "markdown",
   "metadata": {},
   "source": [
    "### ****** ATENÇÃO ******\n",
    "### Alguns dos exercícios podem requerer pesquisa adicional na documentação dos pacotes. Pesquise!"
   ]
  },
  {
   "cell_type": "markdown",
   "metadata": {},
   "source": [
    "### Exercício 1"
   ]
  },
  {
   "cell_type": "code",
   "execution_count": 12,
   "metadata": {},
   "outputs": [],
   "source": [
    "import numpy as np"
   ]
  },
  {
   "cell_type": "code",
   "execution_count": 13,
   "metadata": {},
   "outputs": [
    {
     "name": "stdout",
     "output_type": "stream",
     "text": [
      "CPU times: user 3 µs, sys: 0 ns, total: 3 µs\n",
      "Wall time: 5.72 µs\n",
      "CPU times: user 3 µs, sys: 0 ns, total: 3 µs\n",
      "Wall time: 6.2 µs\n",
      "CPU times: user 5 µs, sys: 1 µs, total: 6 µs\n",
      "Wall time: 11 µs\n",
      "(1000000,)\n"
     ]
    }
   ],
   "source": [
    "# Crie um array NumPy com 1000000 e uma lista com 1000000.\n",
    "%time\n",
    "narray = np.arange(0,1000000,1)\n",
    "%time\n",
    "# Multiplique cada elemento do array e da lista por 2 e calcule o tempo de execução com cada um dos objetos (use %time).\n",
    "plus_2 = narray * 2\n",
    "%time\n",
    "\n",
    "print(plus_2.shape)\n",
    "# Qual objeto oferece melhor performance, array NumPy ou lista?"
   ]
  },
  {
   "cell_type": "code",
   "execution_count": 11,
   "metadata": {},
   "outputs": [
    {
     "name": "stdout",
     "output_type": "stream",
     "text": [
      "CPU times: user 3 µs, sys: 0 ns, total: 3 µs\n",
      "Wall time: 6.2 µs\n",
      "CPU times: user 3 µs, sys: 1 µs, total: 4 µs\n",
      "Wall time: 5.96 µs\n",
      "CPU times: user 3 µs, sys: 1 µs, total: 4 µs\n",
      "Wall time: 6.44 µs\n",
      "[0, 1]\n",
      "[0, 2]\n",
      "1000000\n",
      "1000000\n"
     ]
    }
   ],
   "source": [
    "# Crie um array NumPy com 1000000 e uma lista com 1000000.\n",
    "%time\n",
    "list_test = [x for x in range(1000000)]\n",
    "%time\n",
    "# Multiplique cada elemento do array e da lista por 2 e calcule o tempo de execução com cada um dos objetos (use %time).\n",
    "list_plus_2 = [x*2 for x in list_test]\n",
    "%time\n",
    "print(list_test[0:2])\n",
    "print(list_plus_2[0:2])\n",
    "print(len(list_test))\n",
    "print(len(list_plus_2))"
   ]
  },
  {
   "cell_type": "markdown",
   "metadata": {},
   "source": [
    "### Exercício 2"
   ]
  },
  {
   "cell_type": "code",
   "execution_count": 18,
   "metadata": {},
   "outputs": [
    {
     "name": "stdout",
     "output_type": "stream",
     "text": [
      "[0 1 2 3 4 5 6 7 8 9]\n",
      "[0 1 2 3 0 0 0 0 8 9]\n"
     ]
    }
   ],
   "source": [
    "# Exercício 2\n",
    "# Crie um array de 10 elementos\n",
    "list_test = np.arange(10)\n",
    "print(list_test)\n",
    "# Altere o valores de todos os elementos dos índices 5 a 8 para 0\n",
    "list_test[4:8] = 0\n",
    "print(list_test)"
   ]
  },
  {
   "cell_type": "markdown",
   "metadata": {},
   "source": [
    "### Exercício 3"
   ]
  },
  {
   "cell_type": "code",
   "execution_count": 19,
   "metadata": {},
   "outputs": [
    {
     "name": "stdout",
     "output_type": "stream",
     "text": [
      "[0 1 2 3 4 5 6 7 8 9]\n"
     ]
    }
   ],
   "source": [
    "# Crie um array de 3 dimensões e imprima a dimensão 1 \n",
    "n = [np.arange(10),np.arange(10),np.arange(10)]\n",
    "print(n[0])"
   ]
  },
  {
   "cell_type": "markdown",
   "metadata": {},
   "source": [
    "### Exercício 4"
   ]
  },
  {
   "cell_type": "code",
   "execution_count": 23,
   "metadata": {},
   "outputs": [
    {
     "name": "stdout",
     "output_type": "stream",
     "text": [
      "[array([0, 1, 2, 3, 4, 5, 6, 7, 8, 9]), array([0, 1, 2, 3, 4, 5, 6, 7, 8, 9]), array([0, 1, 2, 3, 4, 5, 6, 7, 8, 9])]\n"
     ]
    }
   ],
   "source": [
    "# Crie um array de duas dimensões (matriz).\n",
    "n = [np.arange(10),np.arange(10)]\n",
    "# Imprima os elementos da terceira linha da matriz\n",
    "n.append(np.arange(10))\n",
    "# Imprima todos os elementos da primeira e segunda linhas e segunda e terceira colunas\n",
    "print(n)"
   ]
  },
  {
   "cell_type": "markdown",
   "metadata": {},
   "source": [
    "### Exercício 5"
   ]
  },
  {
   "cell_type": "code",
   "execution_count": 26,
   "metadata": {},
   "outputs": [
    {
     "name": "stdout",
     "output_type": "stream",
     "text": [
      "[[ 0  5 10]\n",
      " [ 1  6 11]\n",
      " [ 2  7 12]\n",
      " [ 3  8 13]\n",
      " [ 4  9 14]]\n"
     ]
    }
   ],
   "source": [
    "# Calcule a transposta da matriz abaixo\n",
    "arr = np.arange(15).reshape((3, 5))\n",
    "arr\n",
    "print(arr.T)"
   ]
  },
  {
   "cell_type": "markdown",
   "metadata": {},
   "source": [
    "### Exercício 6"
   ]
  },
  {
   "cell_type": "code",
   "execution_count": 32,
   "metadata": {},
   "outputs": [
    {
     "name": "stdout",
     "output_type": "stream",
     "text": [
      "1.1-True\n",
      "2.2-False\n",
      "1.3-True\n",
      "1.4-True\n",
      "2.5-False\n"
     ]
    }
   ],
   "source": [
    "# Considere os 3 arrays abaixo\n",
    "# Retorne o valor do array xarr se o valor for True no array cond. Caso contrário, retorne o valor do array yarr.\n",
    "xarr = np.array([1.1, 1.2, 1.3, 1.4, 1.5])\n",
    "yarr = np.array([2.1, 2.2, 2.3, 2.4, 2.5])\n",
    "cond = np.array([True, False, True, True, False])\n",
    "for index,x in enumerate(cond):\n",
    "    if(x):\n",
    "        print(str(xarr[index])+'-'+str(x))\n",
    "    else:\n",
    "        print(str(yarr[index])+'-'+str(x))"
   ]
  },
  {
   "cell_type": "markdown",
   "metadata": {},
   "source": [
    "### Exercício 7"
   ]
  },
  {
   "cell_type": "code",
   "execution_count": 42,
   "metadata": {},
   "outputs": [
    {
     "name": "stdout",
     "output_type": "stream",
     "text": [
      "[0 1 2 3 4 5 6 7 8 9]\n",
      "[0. 1. 2. 3. 4. 5. 6. 7. 8. 9.]\n"
     ]
    }
   ],
   "source": [
    "import uuid\n",
    "uuidOne = uuid.uuid4()\n",
    "# Crie um array A com 10 elementos e salve o array em disco com a extensão npy\n",
    "data = np.asarray(np.arange(10))\n",
    "print(data)\n",
    "arquivo = '../arquivos/'+str(uuidOne)+'_data.csv'\n",
    "\n",
    "# Depois carregue o array do disco no array B\n",
    "np.savetxt(arquivo, data, delimiter=',')\n",
    "acsvNp = np.genfromtxt(arquivo, delimiter=',')\n",
    "print(acsvNp)"
   ]
  },
  {
   "cell_type": "markdown",
   "metadata": {
    "collapsed": true
   },
   "source": [
    "### Exercício 8"
   ]
  },
  {
   "cell_type": "code",
   "execution_count": 44,
   "metadata": {},
   "outputs": [
    {
     "name": "stdout",
     "output_type": "stream",
     "text": [
      "['c' 'a' 'd' 'b']\n"
     ]
    }
   ],
   "source": [
    "# Considerando a série abaixo, imprima os valores únicos na série\n",
    "import pandas as pd\n",
    "obj = pd.Series(['c', 'a', 'd', 'a', 'a', 'b', 'b', 'c', 'c', 'a', 'b'])\n",
    "print(obj.unique())"
   ]
  },
  {
   "cell_type": "markdown",
   "metadata": {
    "collapsed": true
   },
   "source": [
    "### Exercício 9"
   ]
  },
  {
   "cell_type": "code",
   "execution_count": 47,
   "metadata": {},
   "outputs": [
    {
     "data": {
      "text/plain": [
       "<Response [200]>"
      ]
     },
     "execution_count": 47,
     "metadata": {},
     "output_type": "execute_result"
    }
   ],
   "source": [
    "# Considerando o trecho de código que conecta em uma url na internet, imprima o dataframe conforme abaixo.\n",
    "import requests\n",
    "url = 'https://api.github.com/repos/pandas-dev/pandas/issues'\n",
    "resp = requests.get(url)\n",
    "resp"
   ]
  },
  {
   "cell_type": "code",
   "execution_count": 53,
   "metadata": {},
   "outputs": [
    {
     "data": {
      "text/html": [
       "<div>\n",
       "<style scoped>\n",
       "    .dataframe tbody tr th:only-of-type {\n",
       "        vertical-align: middle;\n",
       "    }\n",
       "\n",
       "    .dataframe tbody tr th {\n",
       "        vertical-align: top;\n",
       "    }\n",
       "\n",
       "    .dataframe thead th {\n",
       "        text-align: right;\n",
       "    }\n",
       "</style>\n",
       "<table border=\"1\" class=\"dataframe\">\n",
       "  <thead>\n",
       "    <tr style=\"text-align: right;\">\n",
       "      <th></th>\n",
       "      <th>id</th>\n",
       "      <th>title</th>\n",
       "      <th>author_association</th>\n",
       "      <th>created_at</th>\n",
       "    </tr>\n",
       "  </thead>\n",
       "  <tbody>\n",
       "    <tr>\n",
       "      <th>0</th>\n",
       "      <td>747692661</td>\n",
       "      <td>Should FilePathorBuffer use os.PathLike instea...</td>\n",
       "      <td>NONE</td>\n",
       "      <td>2020-11-20T18:01:26Z</td>\n",
       "    </tr>\n",
       "    <tr>\n",
       "      <th>1</th>\n",
       "      <td>747599476</td>\n",
       "      <td>BUG: CategoricalIndex.where nulling out non-ca...</td>\n",
       "      <td>MEMBER</td>\n",
       "      <td>2020-11-20T15:57:12Z</td>\n",
       "    </tr>\n",
       "    <tr>\n",
       "      <th>2</th>\n",
       "      <td>747250868</td>\n",
       "      <td>BUG: fix astype conversion string -&gt; float</td>\n",
       "      <td>NONE</td>\n",
       "      <td>2020-11-20T07:36:46Z</td>\n",
       "    </tr>\n",
       "    <tr>\n",
       "      <th>3</th>\n",
       "      <td>747145308</td>\n",
       "      <td>BLD: set inplace in setup.cfg</td>\n",
       "      <td>MEMBER</td>\n",
       "      <td>2020-11-20T04:42:33Z</td>\n",
       "    </tr>\n",
       "    <tr>\n",
       "      <th>4</th>\n",
       "      <td>747121893</td>\n",
       "      <td>TST: add nullable array frame constructor dtyp...</td>\n",
       "      <td>MEMBER</td>\n",
       "      <td>2020-11-20T04:04:52Z</td>\n",
       "    </tr>\n",
       "  </tbody>\n",
       "</table>\n",
       "</div>"
      ],
      "text/plain": [
       "          id                                              title  \\\n",
       "0  747692661  Should FilePathorBuffer use os.PathLike instea...   \n",
       "1  747599476  BUG: CategoricalIndex.where nulling out non-ca...   \n",
       "2  747250868         BUG: fix astype conversion string -> float   \n",
       "3  747145308                      BLD: set inplace in setup.cfg   \n",
       "4  747121893  TST: add nullable array frame constructor dtyp...   \n",
       "\n",
       "  author_association            created_at  \n",
       "0               NONE  2020-11-20T18:01:26Z  \n",
       "1             MEMBER  2020-11-20T15:57:12Z  \n",
       "2               NONE  2020-11-20T07:36:46Z  \n",
       "3             MEMBER  2020-11-20T04:42:33Z  \n",
       "4             MEMBER  2020-11-20T04:04:52Z  "
      ]
     },
     "execution_count": 53,
     "metadata": {},
     "output_type": "execute_result"
    }
   ],
   "source": [
    "data = resp.json()\n",
    "df = pd.DataFrame(data,columns=['id','title','author_association','created_at'])\n",
    "df.head()"
   ]
  },
  {
   "cell_type": "markdown",
   "metadata": {},
   "source": [
    "### Exercício 10"
   ]
  },
  {
   "cell_type": "code",
   "execution_count": null,
   "metadata": {},
   "outputs": [],
   "source": [
    "import os\n",
    "os.remove('../arquivos/test.db') if os.path.exists('../arquivos/test.db') else None\n",
    "import sqlite3\n",
    "# Crie um banco de dados no SQLite, crie uma tabela, insira registros, \n",
    "# criando conexao\n",
    "conn = sqlite3.connect('../arquivos/test.db')\n",
    "curs = conn.cursor()\n",
    "# criando tabela\n",
    "sql_create = 'create table filosofos '\\\n",
    "'(id integer primary key, '\\\n",
    "'nome varchar(100), '\\\n",
    "'escola varchar(50))'\n",
    "\n",
    "# criando filosofos\n",
    "sql_insert = 'insert into filosofos values (?, ?, ?)'\n",
    "filosofos = [\n",
    "    (1,'Platão','Clássica'),\n",
    "    (2,'Kant','Moderna'),\n",
    "    (3,'Sarte','Existencialismo'),\n",
    "    (4,'Camus','Absurdismo')\n",
    "]\n",
    "\n",
    "\n",
    "# consulte a tabela e retorne os dados em dataframe do Pandas"
   ]
  },
  {
   "cell_type": "markdown",
   "metadata": {},
   "source": [
    "# Fim"
   ]
  },
  {
   "cell_type": "markdown",
   "metadata": {},
   "source": [
    "### Obrigado - Data Science Academy - <a href=\"http://facebook.com/dsacademybr\">facebook.com/dsacademybr</a>"
   ]
  }
 ],
 "metadata": {
  "kernelspec": {
   "display_name": "Python 3",
   "language": "python",
   "name": "python3"
  },
  "language_info": {
   "codemirror_mode": {
    "name": "ipython",
    "version": 3
   },
   "file_extension": ".py",
   "mimetype": "text/x-python",
   "name": "python",
   "nbconvert_exporter": "python",
   "pygments_lexer": "ipython3",
   "version": "3.8.3"
  },
  "toc": {
   "base_numbering": 1,
   "nav_menu": {},
   "number_sections": true,
   "sideBar": true,
   "skip_h1_title": false,
   "title_cell": "Table of Contents",
   "title_sidebar": "Contents",
   "toc_cell": false,
   "toc_position": {},
   "toc_section_display": true,
   "toc_window_display": false
  }
 },
 "nbformat": 4,
 "nbformat_minor": 1
}
