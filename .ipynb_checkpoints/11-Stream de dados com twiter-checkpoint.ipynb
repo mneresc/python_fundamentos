{
 "cells": [
  {
   "cell_type": "markdown",
   "metadata": {},
   "source": [
    "# Text mine twiter"
   ]
  },
  {
   "cell_type": "markdown",
   "metadata": {},
   "source": [
    "### utilizando pandas e Scikit learning"
   ]
  },
  {
   "cell_type": "markdown",
   "metadata": {},
   "source": [
    "## Preparando stream"
   ]
  },
  {
   "cell_type": "code",
   "execution_count": 1,
   "metadata": {},
   "outputs": [
    {
     "name": "stdout",
     "output_type": "stream",
     "text": [
      "Requirement already satisfied: python-dotenv in /home/marcelocabral/anaconda3/lib/python3.8/site-packages (0.15.0)\r\n"
     ]
    }
   ],
   "source": [
    "!pip install python-dotenv"
   ]
  },
  {
   "cell_type": "code",
   "execution_count": 2,
   "metadata": {},
   "outputs": [
    {
     "name": "stdout",
     "output_type": "stream",
     "text": [
      "Requirement already satisfied: tweepy in /home/marcelocabral/anaconda3/lib/python3.8/site-packages (3.9.0)\n",
      "Requirement already satisfied: requests[socks]>=2.11.1 in /home/marcelocabral/anaconda3/lib/python3.8/site-packages (from tweepy) (2.24.0)\n",
      "Requirement already satisfied: requests-oauthlib>=0.7.0 in /home/marcelocabral/anaconda3/lib/python3.8/site-packages (from tweepy) (1.3.0)\n",
      "Requirement already satisfied: six>=1.10.0 in /home/marcelocabral/anaconda3/lib/python3.8/site-packages (from tweepy) (1.15.0)\n",
      "Requirement already satisfied: idna<3,>=2.5 in /home/marcelocabral/anaconda3/lib/python3.8/site-packages (from requests[socks]>=2.11.1->tweepy) (2.10)\n",
      "Requirement already satisfied: chardet<4,>=3.0.2 in /home/marcelocabral/anaconda3/lib/python3.8/site-packages (from requests[socks]>=2.11.1->tweepy) (3.0.4)\n",
      "Requirement already satisfied: certifi>=2017.4.17 in /home/marcelocabral/anaconda3/lib/python3.8/site-packages (from requests[socks]>=2.11.1->tweepy) (2020.6.20)\n",
      "Requirement already satisfied: urllib3!=1.25.0,!=1.25.1,<1.26,>=1.21.1 in /home/marcelocabral/anaconda3/lib/python3.8/site-packages (from requests[socks]>=2.11.1->tweepy) (1.25.9)\n",
      "Requirement already satisfied: PySocks!=1.5.7,>=1.5.6; extra == \"socks\" in /home/marcelocabral/anaconda3/lib/python3.8/site-packages (from requests[socks]>=2.11.1->tweepy) (1.7.1)\n",
      "Requirement already satisfied: oauthlib>=3.0.0 in /home/marcelocabral/anaconda3/lib/python3.8/site-packages (from requests-oauthlib>=0.7.0->tweepy) (3.1.0)\n"
     ]
    }
   ],
   "source": [
    "!pip install tweepy"
   ]
  },
  {
   "cell_type": "code",
   "execution_count": 3,
   "metadata": {},
   "outputs": [],
   "source": [
    "from tweepy.streaming import StreamListener\n",
    "from tweepy import OAuthHandler\n",
    "from tweepy import Stream\n",
    "from datetime import datetime\n",
    "import json"
   ]
  },
  {
   "cell_type": "code",
   "execution_count": 4,
   "metadata": {},
   "outputs": [
    {
     "data": {
      "text/plain": [
       "True"
      ]
     },
     "execution_count": 4,
     "metadata": {},
     "output_type": "execute_result"
    }
   ],
   "source": [
    "#Mova o arquivo .env.example na raiz para .env\n",
    "#E preencha com os dados da api key do twiter\n",
    "from dotenv import load_dotenv\n",
    "load_dotenv()"
   ]
  },
  {
   "cell_type": "code",
   "execution_count": 5,
   "metadata": {},
   "outputs": [],
   "source": [
    "import os\n",
    "key = os.getenv(\"TWITTER_API_KEY\")\n",
    "secret = os.getenv(\"TWITTER_SECRET_ID\")\n",
    "token =  os.getenv(\"TWITTER_ACCESS_TOKEN\")\n",
    "secret_token = os.getenv(\"TWITTER_TOKEN_SECRET\")"
   ]
  },
  {
   "cell_type": "code",
   "execution_count": 6,
   "metadata": {},
   "outputs": [],
   "source": [
    "# Criando as chaves de autenticação\n",
    "auth = OAuthHandler(key, secret)"
   ]
  },
  {
   "cell_type": "code",
   "execution_count": 7,
   "metadata": {},
   "outputs": [],
   "source": [
    "auth.set_access_token(token,secret_token)"
   ]
  },
  {
   "cell_type": "code",
   "execution_count": 8,
   "metadata": {},
   "outputs": [],
   "source": [
    "class TwListener(StreamListener):\n",
    "    def on_data(self,dados):\n",
    "        tweet = json.loads(dados)\n",
    "        id_str = tweet[\"id_str\"]\n",
    "        text = tweet[\"text\"]\n",
    "        created_at = tweet[\"created_at\"]\n",
    "        obj = {\"created_at\":created_at,\"id_str\":id_str,\"text\":text}\n",
    "        tweetind = col.insert_one(obj).inserted_id\n",
    "        print (obj)\n",
    "        return True\n",
    "        "
   ]
  },
  {
   "cell_type": "code",
   "execution_count": 9,
   "metadata": {},
   "outputs": [],
   "source": [
    "tw_listener = TwListener()"
   ]
  },
  {
   "cell_type": "code",
   "execution_count": 10,
   "metadata": {},
   "outputs": [],
   "source": [
    "stream = Stream(auth, listener = tw_listener)"
   ]
  },
  {
   "cell_type": "markdown",
   "metadata": {},
   "source": [
    "## Preparando DB"
   ]
  },
  {
   "cell_type": "code",
   "execution_count": 11,
   "metadata": {},
   "outputs": [],
   "source": [
    "# Importando do PyMongo o módulo MongoClient\n",
    "from pymongo import MongoClient "
   ]
  },
  {
   "cell_type": "code",
   "execution_count": 12,
   "metadata": {},
   "outputs": [],
   "source": [
    "# Criando a conexão ao MongoDB\n",
    "client = MongoClient()"
   ]
  },
  {
   "cell_type": "code",
   "execution_count": 13,
   "metadata": {},
   "outputs": [],
   "source": [
    "# Criando o banco de dados twitterdb\n",
    "client.drop_database('twitterdb')\n",
    "db = client.twitterdb"
   ]
  },
  {
   "cell_type": "code",
   "execution_count": 14,
   "metadata": {},
   "outputs": [],
   "source": [
    "# Criando a collection \"col\"\n",
    "col = db.tweets"
   ]
  },
  {
   "cell_type": "code",
   "execution_count": 15,
   "metadata": {},
   "outputs": [],
   "source": [
    "# Lista de busca pra tweets\n",
    "keywords = ['Eleições americanas', 'Urna eletrônica', 'SUS']"
   ]
  },
  {
   "cell_type": "markdown",
   "metadata": {},
   "source": [
    "## coletando tweets"
   ]
  },
  {
   "cell_type": "code",
   "execution_count": 16,
   "metadata": {},
   "outputs": [
    {
     "name": "stdout",
     "output_type": "stream",
     "text": [
      "{'created_at': 'Sat Nov 07 01:11:01 +0000 2020', 'id_str': '1324882011287408640', 'text': 'RT @NelsonBrelio1: @VTVcanal8 Aquí la razón  de la caída de trump y sus malandros... https://t.co/XMuDXo6NKD', '_id': ObjectId('5fa5f42a2ab16de1219c7bb6')}\n",
      "{'created_at': 'Sat Nov 07 01:11:01 +0000 2020', 'id_str': '1324882010679226368', 'text': 'RT @ThePattriota: Vergonhoso!!! O conluio fica cada vez mais evidente.\\n\\n*Facebook censura página pró-Trump que denunciava fraude nas eleiçõ…', '_id': ObjectId('5fa5f42a2ab16de1219c7bb7')}\n",
      "{'created_at': 'Sat Nov 07 01:11:01 +0000 2020', 'id_str': '1324882011652288515', 'text': 'RT @camilocnn: Zombies: absténganse de sus ataques, que en esta cuenta se les ignora.', '_id': ObjectId('5fa5f42a2ab16de1219c7bb8')}\n",
      "{'created_at': 'Sat Nov 07 01:11:01 +0000 2020', 'id_str': '1324882011836833793', 'text': 'RT @MercedesSabio: dulzura serán sus notas características.\\nDomina el #color magistralm, con pinceladas fuertes de intenso y brillante rojo…', '_id': ObjectId('5fa5f42a2ab16de1219c7bb9')}\n",
      "{'created_at': 'Sat Nov 07 01:11:01 +0000 2020', 'id_str': '1324882011866230785', 'text': '@ValenTripicchio  siempre, es re tranqui y te hace sentir agusto en sus streams.', '_id': ObjectId('5fa5f42a2ab16de1219c7bba')}\n",
      "{'created_at': 'Sat Nov 07 01:11:01 +0000 2020', 'id_str': '1324882012352749569', 'text': 'Tanto poder tiene Selena que sus canciones quedan bien en todos lados JAJJAJJS   https://t.co/gbDqALGKJj', '_id': ObjectId('5fa5f42a2ab16de1219c7bbb')}\n",
      "{'created_at': 'Sat Nov 07 01:11:01 +0000 2020', 'id_str': '1324882012189192192', 'text': '@WRadioColombia Únanse army comenzó el stream masivo a D-2 para apoyar los trabajos de Yoongi en diferentes platafo… https://t.co/s4dOeyWoph', '_id': ObjectId('5fa5f42a2ab16de1219c7bbc')}\n",
      "{'created_at': 'Sat Nov 07 01:11:01 +0000 2020', 'id_str': '1324882012482674688', 'text': '@rayas_gato @lopezdoriga No sé si es Biden o la foto está truqueada, pero no hay un solo expediente al respecto...T… https://t.co/wzunVJgEDF', '_id': ObjectId('5fa5f42a2ab16de1219c7bbd')}\n",
      "{'created_at': 'Sat Nov 07 01:11:01 +0000 2020', 'id_str': '1324882012633780237', 'text': 'La horrible señora destila tanto veneno que si llegara a morderse, moriría sin remedio.', '_id': ObjectId('5fa5f42a2ab16de1219c7bbe')}\n",
      "{'created_at': 'Sat Nov 07 01:11:01 +0000 2020', 'id_str': '1324882014256959489', 'text': 'RT @HOPM2004: 🚾💥🚾💥🚾💥🚾💥🚾💥🚾💥🚾💥🚾\\n🤥🗣️📢cada vez mas  Carlos Loret #LordMontajes  se hunde en... sus propias mentiras. de seguro le sangro la boc…', '_id': ObjectId('5fa5f42b2ab16de1219c7bbf')}\n",
      "{'created_at': 'Sat Nov 07 01:11:01 +0000 2020', 'id_str': '1324882014110167041', 'text': 'Los hijos quedan mal al ver discutir a sus padres diariamente y es mejor ser criados en un ambiente en el que ellos… https://t.co/Fvq0iSTo4P', '_id': ObjectId('5fa5f42b2ab16de1219c7bc0')}\n",
      "{'created_at': 'Sat Nov 07 01:11:02 +0000 2020', 'id_str': '1324882014701453312', 'text': 'Altiuz e IBM muestran sus herramientas para impulsar la productividad de las empresas colombianas https://t.co/ANAkqNYKzm', '_id': ObjectId('5fa5f42b2ab16de1219c7bc1')}\n",
      "{'created_at': 'Sat Nov 07 01:11:02 +0000 2020', 'id_str': '1324882014789644288', 'text': 'RT @kenialopezr: Nadie tiene el derecho de exhibir a una mujer en su vida íntima y sexual sin su consentimiento.\\n\\nAhora, miles de mujeres e…', '_id': ObjectId('5fa5f42b2ab16de1219c7bc2')}\n",
      "{'created_at': 'Sat Nov 07 01:11:02 +0000 2020', 'id_str': '1324882015565524994', 'text': 'RT @xxx6040: RT si eres de jojutla o sus alrededores 🔥🔁🔁', '_id': ObjectId('5fa5f42b2ab16de1219c7bc3')}\n",
      "{'created_at': 'Sat Nov 07 01:11:02 +0000 2020', 'id_str': '1324882015817146370', 'text': 'RT @ZuritaCarpio: ¿En serio Dresser pide que los medios decidan cuando miente el Presidente para dejar de transmitir sus mensajes? ¿Es la m…', '_id': ObjectId('5fa5f42b2ab16de1219c7bc4')}\n",
      "{'created_at': 'Sat Nov 07 01:11:02 +0000 2020', 'id_str': '1324882016672821249', 'text': 'RT @luispetri: Lo resuelto por la Corte en Bruglia Bertuzzi y Castelli es gravísimo, ya que propaga sus efectos a 68 magistrados más, que a…', '_id': ObjectId('5fa5f42b2ab16de1219c7bc5')}\n",
      "{'created_at': 'Sat Nov 07 01:11:02 +0000 2020', 'id_str': '1324882017062940673', 'text': 'RT @RobiBaradel: Lo dije varias veces, pero lo vuelvo a repetir: no estamos en contra del regreso de las clases presenciales, sino de las c…', '_id': ObjectId('5fa5f42b2ab16de1219c7bc6')}\n",
      "{'created_at': 'Sat Nov 07 01:11:02 +0000 2020', 'id_str': '1324882016991653889', 'text': 'RT @KiaraSanPablo1: Los últimos manotazos de ahogado del Gobierno de Facto. Sepan que el Proceso de Cambio no es sólo @evoespueblo o sus ex…', '_id': ObjectId('5fa5f42b2ab16de1219c7bc7')}\n",
      "{'created_at': 'Sat Nov 07 01:11:02 +0000 2020', 'id_str': '1324882017776005123', 'text': 'Hola princesas soy liru, no soy nuevo en twt ni tampoco soy nuevo siendo monbebe, solo quería hacerme una cuenta y… https://t.co/RqbXXDGYo6', '_id': ObjectId('5fa5f42b2ab16de1219c7bc8')}\n",
      "{'created_at': 'Sat Nov 07 01:11:02 +0000 2020', 'id_str': '1324882017838751744', 'text': 'RT @RedAMLOmx: Crecerán 100% los espacios para que los médicos se especialicen en el país. Recibirán además de becas, plazas.\\n\\nTambién aume…', '_id': ObjectId('5fa5f42b2ab16de1219c7bc9')}\n",
      "{'created_at': 'Sat Nov 07 01:11:02 +0000 2020', 'id_str': '1324882017377419264', 'text': 'Altiuz e IBM muestran sus herramientas para impulsar la productividad de las empresas colombianas… https://t.co/Wd4GCJ7NU0', '_id': ObjectId('5fa5f42c2ab16de1219c7bca')}\n",
      "{'created_at': 'Sat Nov 07 01:11:02 +0000 2020', 'id_str': '1324882017809543174', 'text': 'RT @monjuxtin: imagina decir q justin bieber saca todas sus canciones iguales cuando es el artista más versátil de nuestra generación, algo…', '_id': ObjectId('5fa5f42c2ab16de1219c7bcb')}\n",
      "{'created_at': 'Sat Nov 07 01:11:02 +0000 2020', 'id_str': '1324882017901744131', 'text': 'X75 Unsanctioned - Being Sus in Fall Guys\\n\\nJoin Michael as he games with friends in #FallGuys on #PS4 and in… https://t.co/JUxw7bggVG', '_id': ObjectId('5fa5f42c2ab16de1219c7bcc')}\n",
      "{'created_at': 'Sat Nov 07 01:11:02 +0000 2020', 'id_str': '1324882018044440576', 'text': '@amologada Nos los quieren implantar como sea,,, como la vacuna, 🤦🏻\\u200d♀️así habituamos a la vista,yo sigo diciendo qu… https://t.co/iYbRd5Xvaz', '_id': ObjectId('5fa5f42c2ab16de1219c7bcd')}\n",
      "{'created_at': 'Sat Nov 07 01:11:02 +0000 2020', 'id_str': '1324882018522558466', 'text': 'RT @EnriqueRGH: #AsambleaMadrid\\n@EnriqueRGH “Sr Aguado, sea transparente consigo mismo y asuma q la deslealtad del Gob Regional no es solam…', '_id': ObjectId('5fa5f42c2ab16de1219c7bce')}\n",
      "{'created_at': 'Sat Nov 07 01:11:02 +0000 2020', 'id_str': '1324882018551750656', 'text': 'RT @AdrianLebaron: Cherán en Michoacán es ejemplo del pueblo que supo enfrentar sus miedos para vivir en paz y armonía, ellos determinan su…', '_id': ObjectId('5fa5f42c2ab16de1219c7bcf')}\n",
      "{'created_at': 'Sat Nov 07 01:11:03 +0000 2020', 'id_str': '1324882018820382720', 'text': 'RT @MarielivFV: #YoDenunciéVGL \\nsi diste tu consentimiento para grabarte teniendo sexo y luego el imbécil difunde el video con sus amiguito…', '_id': ObjectId('5fa5f42c2ab16de1219c7bd0')}\n",
      "{'created_at': 'Sat Nov 07 01:11:03 +0000 2020', 'id_str': '1324882018929405954', 'text': 'RT @BB_Votaciones: INFO📈\\n@BTS_twt\\n\\nSe reveló el ranking de marca para grupos masculinos en el mes de Noviembre, y BTS ocupa en el 1er lugar…', '_id': ObjectId('5fa5f42c2ab16de1219c7bd1')}\n",
      "{'created_at': 'Sat Nov 07 01:11:03 +0000 2020', 'id_str': '1324882018996539393', 'text': 'RT @sucocastillo: Si la misma persona no hubiera venido con sus chantajes religiosos, ahora habría un código de salud que obligaría al Esta…', '_id': ObjectId('5fa5f42c2ab16de1219c7bd2')}\n",
      "{'created_at': 'Sat Nov 07 01:11:03 +0000 2020', 'id_str': '1324882019696959488', 'text': 'Para los que usan #CHOEAEDOL \\nPueden ir a ver videos y te dan 37 hearts (corazones) por cada video.\\nCorran a ver vi… https://t.co/JTpLwPGTi2', '_id': ObjectId('5fa5f42c2ab16de1219c7bd3')}\n",
      "{'created_at': 'Sat Nov 07 01:11:03 +0000 2020', 'id_str': '1324882020124696576', 'text': '@CualquieraMujer @1619Mtz es que ustedes no se han enterado las barbaridades que hizo Trump , separo padres de sus… https://t.co/UtizTk7jLH', '_id': ObjectId('5fa5f42c2ab16de1219c7bd4')}\n"
     ]
    },
    {
     "name": "stdout",
     "output_type": "stream",
     "text": [
      "{'created_at': 'Sat Nov 07 01:11:03 +0000 2020', 'id_str': '1324882020963667968', 'text': '@Alejo_Godoy @mirnaschindler @PauGarciaRadio @adnradiochile Oportunista, en dos de sus acepciones significa, que ap… https://t.co/1Yf3pfjdhU', '_id': ObjectId('5fa5f42c2ab16de1219c7bd5')}\n",
      "{'created_at': 'Sat Nov 07 01:11:03 +0000 2020', 'id_str': '1324882021437612032', 'text': 'RT @Lenin: ¡Más ecuatorianos tendrán trabajo digno para sostener a sus familias! Ya están en vigencia los nuevos mecanismos de contratación…', '_id': ObjectId('5fa5f42c2ab16de1219c7bd6')}\n",
      "{'created_at': 'Sat Nov 07 01:11:03 +0000 2020', 'id_str': '1324882021286637568', 'text': '@kathykatss @realjuca Las amodoro bellecitas  gracias por sus palabras ya me siento mejor! 😘🤗💕💜🌻🌷 https://t.co/Iygo2JZJ98', '_id': ObjectId('5fa5f42c2ab16de1219c7bd7')}\n",
      "{'created_at': 'Sat Nov 07 01:11:03 +0000 2020', 'id_str': '1324882021727035393', 'text': 'virgin abolir de raiz estructuras historicas de opresión y chad pintarlas de colorines y seguir viviendo en sus mar… https://t.co/XeNGxZfJ62', '_id': ObjectId('5fa5f42c2ab16de1219c7bd8')}\n",
      "{'created_at': 'Sat Nov 07 01:11:03 +0000 2020', 'id_str': '1324882022041587716', 'text': 'RT @k6olietj: En Corea ya es 7 de Noviembre por lo que se cumplen 10 años desde que Yoongi fue a Seúl para cumplir sus sueños y convertirse…', '_id': ObjectId('5fa5f42d2ab16de1219c7bd9')}\n",
      "{'created_at': 'Sat Nov 07 01:11:03 +0000 2020', 'id_str': '1324882022632992772', 'text': 'RT @malepfranco: Desde otro punto de vista las  televisoras siempre\\nsabotean a todo aquel que no sigue sus intereses,además recalcan que “l…', '_id': ObjectId('5fa5f42d2ab16de1219c7bda')}\n",
      "{'created_at': 'Sat Nov 07 01:11:04 +0000 2020', 'id_str': '1324882022838497280', 'text': 'RT @olgarodriguezfr: Asumir con inocencia las mentiras de sus gobiernos ha sido la tónica de muchos medios de EEUU. Lo que habría dado por…', '_id': ObjectId('5fa5f42d2ab16de1219c7bdb')}\n",
      "{'created_at': 'Sat Nov 07 01:11:04 +0000 2020', 'id_str': '1324882022964350977', 'text': 'Ni uno solo que me cita de los 25 TortiPintores no tiene seguidores y se enojan... Ustedes sigan que yo les leo sus inquietudes', '_id': ObjectId('5fa5f42d2ab16de1219c7bdc')}\n",
      "{'created_at': 'Sat Nov 07 01:11:04 +0000 2020', 'id_str': '1324882022888771584', 'text': 'RT @MDJ_1999: ARMY, que se comience a dar prioridad el entrar a los artículos de N4ver que comparte BigHit y las fanbases de los chicos par…', '_id': ObjectId('5fa5f42d2ab16de1219c7bdd')}\n",
      "{'created_at': 'Sat Nov 07 01:11:04 +0000 2020', 'id_str': '1324882023173955585', 'text': 'RT @MarcoBo14299061: @DoliaEstevez Solo una pregunta respetuosa Dolia, ¿no es eso tratar a sus audiencias como si fueran discapacitados men…', '_id': ObjectId('5fa5f42d2ab16de1219c7bde')}\n",
      "{'created_at': 'Sat Nov 07 01:11:04 +0000 2020', 'id_str': '1324882023224401920', 'text': 'RT @AngelicaZurdita: Entreguen a los cabros!! Los quieren en sus CASAS https://t.co/dicTFhpLJi', '_id': ObjectId('5fa5f42d2ab16de1219c7bdf')}\n",
      "{'created_at': 'Sat Nov 07 01:11:04 +0000 2020', 'id_str': '1324882023664783361', 'text': 'RT @BibiMonteroDR: No es raro q los \"periodistas\" de la #OposicionMoralmenteDerrotada quieran censurar al presidente, por eso difunden #fak…', '_id': ObjectId('5fa5f42d2ab16de1219c7be0')}\n",
      "{'created_at': 'Sat Nov 07 01:11:04 +0000 2020', 'id_str': '1324882023564054528', 'text': '@luis72322792 @JahdielGonzlez1 @JuanManuelSalin @gsergiop1 @Alanredick1 Violencia no se resuelve con mas Violencia-… https://t.co/bZtWdDrSnV', '_id': ObjectId('5fa5f42d2ab16de1219c7be1')}\n",
      "{'created_at': 'Sat Nov 07 01:11:04 +0000 2020', 'id_str': '1324882024386207745', 'text': 'Europa está pagando carísimo las aperturas de verano. Y ya no saben para donde derivar los pacientes. Y Argentina t… https://t.co/W6tWXgpLzO', '_id': ObjectId('5fa5f42d2ab16de1219c7be2')}\n",
      "{'created_at': 'Sat Nov 07 01:11:04 +0000 2020', 'id_str': '1324882024839122944', 'text': 'RT @Cule_Antifa_: Sueño q un día nos levantamos y este virus no existe,q los niños juegan en los parques,q nuestros mayores juegan con sus…', '_id': ObjectId('5fa5f42d2ab16de1219c7be3')}\n",
      "{'created_at': 'Sat Nov 07 01:11:04 +0000 2020', 'id_str': '1324882024826540032', 'text': 'RT @JovenEuropeo: “Hoy nuestro mundo duerme más seguro”, dice Aguado mientras ilustra con la foto del presidente que no pasó ni un solo día…', '_id': ObjectId('5fa5f42d2ab16de1219c7be4')}\n",
      "{'created_at': 'Sat Nov 07 01:11:04 +0000 2020', 'id_str': '1324882024977592321', 'text': '@carlosjoota Nah, en dado caso preferiría a Nikki Haley que también se rumora sus aspiraciones presidenciales.', '_id': ObjectId('5fa5f42d2ab16de1219c7be5')}\n",
      "{'created_at': 'Sat Nov 07 01:11:04 +0000 2020', 'id_str': '1324882025145389057', 'text': 'RT @EliTrujilloO: Me congratula pertenecer a un gran equipo,pero sobre todo tener a un gran líder que sabe llevar a sus equipos a la unidad…', '_id': ObjectId('5fa5f42d2ab16de1219c7be6')}\n",
      "{'created_at': 'Sat Nov 07 01:11:04 +0000 2020', 'id_str': '1324882024948256771', 'text': '@HuffPost EL PECADO DE @realDonaldTrump ES DECIR SUS VERDADES A UN MUNDO INMERSO EN LA HIPOCRECIA.\\nTHE SIN OF… https://t.co/EWzdTte5rS', '_id': ObjectId('5fa5f42d2ab16de1219c7be7')}\n",
      "{'created_at': 'Sat Nov 07 01:11:04 +0000 2020', 'id_str': '1324882025929732096', 'text': 'RT @XiomaryUrbaez: El señor Bocaranda se ha ganado a pulso el rechazo de los lectores. A decir verdad, como periodista, ciudadana y lectora…', '_id': ObjectId('5fa5f42d2ab16de1219c7be8')}\n",
      "{'created_at': 'Sat Nov 07 01:11:04 +0000 2020', 'id_str': '1324882026139443202', 'text': '@realidadamerica Y mataban a mi Jeremy,  a este wey lo aguantaron más de la cuenta y estando sano no quería jugar.… https://t.co/S3qBxvRZBs', '_id': ObjectId('5fa5f42d2ab16de1219c7be9')}\n",
      "{'created_at': 'Sat Nov 07 01:11:04 +0000 2020', 'id_str': '1324882026403672064', 'text': 'bueno me enojé conmigo misma, me voy no quiero dar malas vibes en sus tl\\nhttps://t.co/a68aOCAVxz', '_id': ObjectId('5fa5f42e2ab16de1219c7bea')}\n",
      "{'created_at': 'Sat Nov 07 01:11:04 +0000 2020', 'id_str': '1324882026743336963', 'text': '@hottoppty El sabe que vuelve loco es a los manes, y sabe que tiene bastantes gays en sus seguidores', '_id': ObjectId('5fa5f42e2ab16de1219c7beb')}\n",
      "{'created_at': 'Sat Nov 07 01:11:04 +0000 2020', 'id_str': '1324882026848268297', 'text': 'RT @addm2018: Acordate: el frenteamplismo es un copamiento. https://t.co/1heodwwwnb', '_id': ObjectId('5fa5f42e2ab16de1219c7bec')}\n",
      "{'created_at': 'Sat Nov 07 01:11:05 +0000 2020', 'id_str': '1324882027154386944', 'text': 'RT @anneecvs: As eleições americanas estão legais e tls. Mas vamos prestar atenção também nas coisas que estão acontecendo no Brasil e dá a…', '_id': ObjectId('5fa5f42e2ab16de1219c7bed')}\n",
      "{'created_at': 'Sat Nov 07 01:11:05 +0000 2020', 'id_str': '1324882027636781063', 'text': 'RT @GustavoBolivar: El uribismo llevó a Florida sus tácticas de mentir mil veces para crear una verdad o calumniar para sacar provecho y se…', '_id': ObjectId('5fa5f42e2ab16de1219c7bee')}\n",
      "{'created_at': 'Sat Nov 07 01:11:05 +0000 2020', 'id_str': '1324882027884240896', 'text': 'RT @bettycriticonaa: ATENCION\\n• La FiscaIía ordenó compulsar copias contra M0NTEALEGRE y PERD0M0 por tráfico de infIuencias, abuso de autor…', '_id': ObjectId('5fa5f42e2ab16de1219c7bef')}\n",
      "{'created_at': 'Sat Nov 07 01:11:05 +0000 2020', 'id_str': '1324882028588904448', 'text': 'RT @DPppeludos: ️URGENTE!!\\n\\n️11 AÑITOS TIENE Y LA HAN DEJADO EN LA PERRERA\\nES MUY URGENTE QUE ALGUIEN QUIERA AYUDAR A ESTA PRECIOSIDAD Y LA…', '_id': ObjectId('5fa5f42e2ab16de1219c7bf0')}\n",
      "{'created_at': 'Sat Nov 07 01:11:05 +0000 2020', 'id_str': '1324882028974678016', 'text': 'RT @bettycriticonaa: ATENCION\\n• La FiscaIía ordenó compulsar copias contra M0NTEALEGRE y PERD0M0 por tráfico de infIuencias, abuso de autor…', '_id': ObjectId('5fa5f42e2ab16de1219c7bf1')}\n",
      "{'created_at': 'Sat Nov 07 01:11:05 +0000 2020', 'id_str': '1324882029058646017', 'text': 'RT @BarbaraLopezInt: Dejen sus me gusta por aquí SIN DAR RT, solo citen el tweet si van a compartirlo \\n\\n@barbara_lopez21', '_id': ObjectId('5fa5f42e2ab16de1219c7bf2')}\n",
      "{'created_at': 'Sat Nov 07 01:11:05 +0000 2020', 'id_str': '1324882029461327872', 'text': 'RT @fargosi: Con el debido respeto a sus cargos,  @RossiAgustinOk y @SabinaFrederic, que estan haciendo al respecto?\\n¿Y el Sr. Presidente @…', '_id': ObjectId('5fa5f42e2ab16de1219c7bf3')}\n"
     ]
    },
    {
     "name": "stdout",
     "output_type": "stream",
     "text": [
      "{'created_at': 'Sat Nov 07 01:11:05 +0000 2020', 'id_str': '1324882030228856832', 'text': 'RT @CatastroHidalgo: Realizamos 3 reuniones virtuales para  presentarles a los 84 Municipios del Estado, las ventajas de tener un motor de…', '_id': ObjectId('5fa5f42e2ab16de1219c7bf4')}\n",
      "{'created_at': 'Sat Nov 07 01:11:05 +0000 2020', 'id_str': '1324882030249840642', 'text': '@Alfamoris Sí, pero creo que eso es mas evidente en el manga. Recuerdo que la S1 era recomenda por padres de famila… https://t.co/rWm24UJ5z3', '_id': ObjectId('5fa5f42e2ab16de1219c7bf5')}\n",
      "{'created_at': 'Sat Nov 07 01:11:05 +0000 2020', 'id_str': '1324882030690185216', 'text': '296 - ELEIÇÕES AMERICANAS . Esclarecimentos. Luciano Cesa. COMPARTILHEM ! https://t.co/PQHadk7u54 via @YouTube', '_id': ObjectId('5fa5f42f2ab16de1219c7bf6')}\n",
      "{'created_at': 'Sat Nov 07 01:11:05 +0000 2020', 'id_str': '1324882030925017089', 'text': 'RT @Nahuio: @adrianellle ¡ Ay que fácil!  A ver cómo le hacen.... Que agarren sus cosas y se trepen a un árbol o jalen su casa para otro la…', '_id': ObjectId('5fa5f42f2ab16de1219c7bf7')}\n",
      "{'created_at': 'Sat Nov 07 01:11:06 +0000 2020', 'id_str': '1324882031260672000', 'text': 'RT @TarquinoPaspala: ¿Por qué un segundo retiro del 10%, es un balón de oxigeno para millones de chilenos? Muy simple, a los trabajadores q…', '_id': ObjectId('5fa5f42f2ab16de1219c7bf8')}\n",
      "{'created_at': 'Sat Nov 07 01:11:05 +0000 2020', 'id_str': '1324882030757339138', 'text': '¿Por que son así de culeros con sus maestros, hdspm? 😩😩😩 https://t.co/ZxyqckGky3', '_id': ObjectId('5fa5f42f2ab16de1219c7bf9')}\n",
      "{'created_at': 'Sat Nov 07 01:11:06 +0000 2020', 'id_str': '1324882031277465601', 'text': 'No pues, corranle yo desde aquí en un lugar seco y con techo los apoyo. 🤝👍 Gracias señor presidente.… https://t.co/q5UMJXf1BC', '_id': ObjectId('5fa5f42f2ab16de1219c7bfa')}\n",
      "{'created_at': 'Sat Nov 07 01:11:06 +0000 2020', 'id_str': '1324882031629770753', 'text': 'RT @_Provea: Los venezolanos con hemofilia están desarrollando hemorragias en las articulaciones por falta de medicamentos para tratar su e…', '_id': ObjectId('5fa5f42f2ab16de1219c7bfb')}\n",
      "{'created_at': 'Sat Nov 07 01:11:06 +0000 2020', 'id_str': '1324882031667523584', 'text': 'RT @AEPatagonica: Una pareja de Coscoroba en el humedal urbano Tres Puentes. Anteriormente se han observado junto a sus polluelos, pero per…', '_id': ObjectId('5fa5f42f2ab16de1219c7bfc')}\n",
      "{'created_at': 'Sat Nov 07 01:11:06 +0000 2020', 'id_str': '1324882032158273540', 'text': 'É isto.', '_id': ObjectId('5fa5f42f2ab16de1219c7bfd')}\n",
      "{'created_at': 'Sat Nov 07 01:11:06 +0000 2020', 'id_str': '1324882032279900160', 'text': '@Jiang_Lotus No pensaba desaprovechar esa cercanía, así fue como dulcemente tomó de la cintura al Jiang y se inclin… https://t.co/LYdotJKc6W', '_id': ObjectId('5fa5f42f2ab16de1219c7bfe')}\n",
      "{'created_at': 'Sat Nov 07 01:11:06 +0000 2020', 'id_str': '1324882032959303681', 'text': '@JosePradaa men usted en sus fotos me pones a mil', '_id': ObjectId('5fa5f42f2ab16de1219c7bff')}\n",
      "{'created_at': 'Sat Nov 07 01:11:06 +0000 2020', 'id_str': '1324882033231998977', 'text': 'RT @lelebtslove: Army continúa el stream party para apoyar a Yoongi en las plataformas digitales. \\n\\nÚnanse y compartan sus capturas ⬇️\\n\\n#We…', '_id': ObjectId('5fa5f42f2ab16de1219c7c00')}\n",
      "{'created_at': 'Sat Nov 07 01:11:06 +0000 2020', 'id_str': '1324882033374584832', 'text': 'RT @LuFernandezSily: Es una nena de 14 años que quedó embarazada por reiteradas violaciones de su padrastro. \\nSiempre la gaceta desinforman…', '_id': ObjectId('5fa5f42f2ab16de1219c7c01')}\n",
      "{'created_at': 'Sat Nov 07 01:11:06 +0000 2020', 'id_str': '1324882034381217793', 'text': 'RT @sindicato1991: Este señor si que es sirvenguenza, tan pornografo con sus empleadas, nunca a tenido credenciales, todos los 24 años que…', '_id': ObjectId('5fa5f42f2ab16de1219c7c02')}\n",
      "{'created_at': 'Sat Nov 07 01:11:06 +0000 2020', 'id_str': '1324882035161268224', 'text': 'RT @JiminPrincebb_: Les dejo un pequeño yoongi estornudando para alegrar sus días \\n#SUGA\\n#GetWellSoonYoongi @BTS_twt https://t.co/1Zlxg0GgCq', '_id': ObjectId('5fa5f4302ab16de1219c7c03')}\n",
      "{'created_at': 'Sat Nov 07 01:11:07 +0000 2020', 'id_str': '1324882035736014848', 'text': 'RT @VemPraRua_br: Tente imaginar, por um instante, quantos corruptos seriam beneficiados caso o STJ não consiga recuperar os seus arquivos…', '_id': ObjectId('5fa5f4302ab16de1219c7c04')}\n",
      "{'created_at': 'Sat Nov 07 01:11:07 +0000 2020', 'id_str': '1324882036746842112', 'text': 'RT @vox_es: 📺 @Ortega_Smith \"La prohibición del español como lengua oficial del Estado es parte del peaje que el Gobierno está pagando a lo…', '_id': ObjectId('5fa5f4302ab16de1219c7c05')}\n",
      "{'created_at': 'Sat Nov 07 01:11:07 +0000 2020', 'id_str': '1324882037476626433', 'text': 'he didn’t snitch to protect his family but he was willing to serve his whole sentence avoiding contact with them wh… https://t.co/b9tP7GXivY', '_id': ObjectId('5fa5f4302ab16de1219c7c06')}\n",
      "{'created_at': 'Sat Nov 07 01:11:07 +0000 2020', 'id_str': '1324882038416150528', 'text': 'RT @rmcardenas: Cómo planean financiar SUS pensiones si no tienen fondos? quién se las va a pagar?\\nPorque hasta ahora los veo muy seguros c…', '_id': ObjectId('5fa5f4302ab16de1219c7c07')}\n",
      "{'created_at': 'Sat Nov 07 01:11:07 +0000 2020', 'id_str': '1324882038151897090', 'text': 'tan brage🤮', '_id': ObjectId('5fa5f4302ab16de1219c7c08')}\n",
      "{'created_at': 'Sat Nov 07 01:11:07 +0000 2020', 'id_str': '1324882038479081481', 'text': 'RT @ESCUELACORDOBA: En la semana de flexibilización la escuela Córdoba sigue activa con sus asesorías pedagógicas @charlychaves @Crazet2011…', '_id': ObjectId('5fa5f4302ab16de1219c7c09')}\n",
      "{'created_at': 'Sat Nov 07 01:11:07 +0000 2020', 'id_str': '1324882039099723777', 'text': 'RT @AleLadyBird: No, doña Beatriz, la Ley Olimipia no es para que ande haciendo sus mitotes. Mejor póngase a hacer algo de provecho y desqu…', '_id': ObjectId('5fa5f4312ab16de1219c7c0a')}\n",
      "{'created_at': 'Sat Nov 07 01:11:08 +0000 2020', 'id_str': '1324882039707856897', 'text': 'RT @LibreriaRius: #BuenViernes estos son los cartones de los moneros de México del 6 de noviembre de 2020, publicados tanto en los principa…', '_id': ObjectId('5fa5f4312ab16de1219c7c0b')}\n",
      "{'created_at': 'Sat Nov 07 01:11:08 +0000 2020', 'id_str': '1324882040077029376', 'text': '@CesarRomeroC Ahora que Rafael Vela ya no le sirve a la mafia, recién sale la información para destruir su imagen y… https://t.co/Dz02Lid0Hr', '_id': ObjectId('5fa5f4312ab16de1219c7c0c')}\n",
      "{'created_at': 'Sat Nov 07 01:11:08 +0000 2020', 'id_str': '1324882040098066439', 'text': 'Mientras termina el recuento, el contraste entre las actitudes de Donald Trump y Joe Biden define cómo serían sus r… https://t.co/NzNxbOLWnc', '_id': ObjectId('5fa5f4312ab16de1219c7c0d')}\n",
      "{'created_at': 'Sat Nov 07 01:11:08 +0000 2020', 'id_str': '1324882040299409409', 'text': 'RT @Pan2ra_: Quiero decirle un secreto\\nque sea suyo y mío...\\n\\nVenga y pose sus manos\\nen mi pecho y digame\\nsi cada latido no lleva su nombre…', '_id': ObjectId('5fa5f4312ab16de1219c7c0e')}\n",
      "{'created_at': 'Sat Nov 07 01:11:08 +0000 2020', 'id_str': '1324882040819429382', 'text': '@yungbludistas como rompen las pelotas no se cansan de romper las pelotas todo el día rompiendo las pelotas son uno… https://t.co/AoAqSYZPCs', '_id': ObjectId('5fa5f4312ab16de1219c7c0f')}\n",
      "{'created_at': 'Sat Nov 07 01:11:08 +0000 2020', 'id_str': '1324882040873947136', 'text': 'Hoy fue mi segunda y última salida “por gusto” durante la pandemia a otra exposición y amigos, esta sí me gustó 🙌🏻… https://t.co/2UqTNoHQra', '_id': ObjectId('5fa5f4312ab16de1219c7c10')}\n",
      "{'created_at': 'Sat Nov 07 01:11:08 +0000 2020', 'id_str': '1324882040924332032', 'text': '@kingblud_ como rompen las pelotas no se cansan de romper las pelotas todo el día rompiendo las pelotas son unos ro… https://t.co/9x0KxV6dgc', '_id': ObjectId('5fa5f4312ab16de1219c7c11')}\n",
      "{'created_at': 'Sat Nov 07 01:11:08 +0000 2020', 'id_str': '1324882041331191808', 'text': 'RT @cami_garrcia: Coquetear es ser infiel, salir y esconderselo a sus parejas es ser infiel, chatear con amor o sexualidad a espaldas de su…', '_id': ObjectId('5fa5f4312ab16de1219c7c12')}\n",
      "{'created_at': 'Sat Nov 07 01:11:08 +0000 2020', 'id_str': '1324882041901617153', 'text': 'hay gente q re cuenta todos sus problemas por aca y todo bien hagan lo q quieran pero posta como hacen, yo siento q… https://t.co/X5Roy5GVOs', '_id': ObjectId('5fa5f4312ab16de1219c7c13')}\n"
     ]
    },
    {
     "name": "stdout",
     "output_type": "stream",
     "text": [
      "{'created_at': 'Sat Nov 07 01:11:08 +0000 2020', 'id_str': '1324882042228760584', 'text': 'RT @gabi_moreira: E vocês acham que as eleições americanas são com emoção? Confusas? Zoneadas? \\nVejam bem. Justiça antecipou em 8 dias a el…', '_id': ObjectId('5fa5f4312ab16de1219c7c14')}\n",
      "{'created_at': 'Sat Nov 07 01:11:08 +0000 2020', 'id_str': '1324882042350407688', 'text': 'X75 Unsanctioned - Being Sus in Fall Guys\\n\\nJoin Michael as he games with friends in #FallGuys on #PS4 and in… https://t.co/O7IcalYJxc', '_id': ObjectId('5fa5f4312ab16de1219c7c15')}\n",
      "{'created_at': 'Sat Nov 07 01:11:08 +0000 2020', 'id_str': '1324882042501337089', 'text': '@mteijeiro Tranquila camarada el caso de @rolandcarreno servirá al novelero @Leonardo_Padron para la trama de una d… https://t.co/osNRj4nwpe', '_id': ObjectId('5fa5f4312ab16de1219c7c16')}\n",
      "{'created_at': 'Sat Nov 07 01:11:08 +0000 2020', 'id_str': '1324882042706939905', 'text': '@epigmenioibarra @SinEmbargoMX Ya logro sus 5 minutos de fama!', '_id': ObjectId('5fa5f4312ab16de1219c7c17')}\n",
      "{'created_at': 'Sat Nov 07 01:11:08 +0000 2020', 'id_str': '1324882043495473157', 'text': 'RT @larroqueandres: Natalia, su esposo y sus hijos son una de las 734 familias de Presidente Perón que también firmaron el acta acuerdo con…', '_id': ObjectId('5fa5f4322ab16de1219c7c18')}\n",
      "{'created_at': 'Sat Nov 07 01:11:09 +0000 2020', 'id_str': '1324882044053299200', 'text': 'RT @kimontare: Desde la #ElComiteCivicoDe Manta los candidatos de la #AlianzaHonestidad presentan sus propuestas a los Manabitas\\n\\nLo primer…', '_id': ObjectId('5fa5f4322ab16de1219c7c19')}\n",
      "{'created_at': 'Sat Nov 07 01:11:09 +0000 2020', 'id_str': '1324882044841816067', 'text': 'Ahí está la cobardía y bajeza de ese arribista @ricardomraphael . Entre él y @CiroGomezL solaparon a Wallace. Hoy f… https://t.co/rU0cTI7MjB', '_id': ObjectId('5fa5f4322ab16de1219c7c1a')}\n",
      "{'created_at': 'Sat Nov 07 01:11:09 +0000 2020', 'id_str': '1324882044988616706', 'text': 'RT @MartiinsSusy: Pessoal venho aqui pedir ajuda pra pagar uma consulta oftalmológica pro meu BB que tem 6meses, ele está com uma inflamaçã…', '_id': ObjectId('5fa5f4322ab16de1219c7c1b')}\n",
      "{'created_at': 'Sat Nov 07 01:11:09 +0000 2020', 'id_str': '1324882045655396352', 'text': '@funkyv4mpire THATS WHAT IM SAYING!!! LIKE I THOT IT WAS SUPER SUS THAT WE DIDNT SEE A DEATH SCENE WHEN EVERYONE EL… https://t.co/3G8XBylDbK', '_id': ObjectId('5fa5f4322ab16de1219c7c1c')}\n",
      "{'created_at': 'Sat Nov 07 01:11:09 +0000 2020', 'id_str': '1324882046234275842', 'text': 'RT @MiliciaFANBZod1: 📆#6Nov|| 115 años se conmemoran del natalicio de Pedro Antonio Ríos Reyna, reconocido director de orquesta y promotor…', '_id': ObjectId('5fa5f4322ab16de1219c7c1d')}\n",
      "{'created_at': 'Sat Nov 07 01:11:09 +0000 2020', 'id_str': '1324882045743599620', 'text': 'Cada vez que Juls se deja abrazar con Val puedes ver como libera todo el peso que carga encima, como cierra sus oji… https://t.co/xRphdvQZyJ', '_id': ObjectId('5fa5f4322ab16de1219c7c1e')}\n",
      "{'created_at': 'Sat Nov 07 01:11:09 +0000 2020', 'id_str': '1324882046322270209', 'text': 'RT @Cab_Virgen: Ella siempre es oída por Dios en sus súplicas a favor nuestro, y nos obtiene de Él aquello que, por nosotros mismos, no mer…', '_id': ObjectId('5fa5f4322ab16de1219c7c1f')}\n",
      "{'created_at': 'Sat Nov 07 01:11:09 +0000 2020', 'id_str': '1324882046234333185', 'text': '@SebasWS @petrogustavo Y entonces como hacen los países desarrollados? Los contribuyentes reciben al nivel del pago… https://t.co/egJPiq5a10', '_id': ObjectId('5fa5f4322ab16de1219c7c20')}\n",
      "{'created_at': 'Sat Nov 07 01:11:09 +0000 2020', 'id_str': '1324882046460817410', 'text': 'No me cabe la menor duda...\\n\\n—contestó, observando sus movimientos—\\n\\nDescuida, ya sabes dónde están... ahora entra… https://t.co/8y7XyfQrk6', '_id': ObjectId('5fa5f4322ab16de1219c7c21')}\n",
      "{'created_at': 'Sat Nov 07 01:11:09 +0000 2020', 'id_str': '1324882046813089794', 'text': 'RT @aguinaldaosilva: Desculpem, mas há exatas 48horas que as notícias sobre a apuração das eleições americanas são sempre as mesmas: nada c…', '_id': ObjectId('5fa5f4322ab16de1219c7c22')}\n",
      "{'created_at': 'Sat Nov 07 01:11:09 +0000 2020', 'id_str': '1324882046842494977', 'text': 'RT @NeoReaccionario: Biden pasa a saludar a sus votantes. https://t.co/JnR31AhOFt', '_id': ObjectId('5fa5f4322ab16de1219c7c23')}\n",
      "{'created_at': 'Sat Nov 07 01:11:09 +0000 2020', 'id_str': '1324882047144517632', 'text': 'RT @PizarroMariaJo: El plan de la toma fue detectado y salió en los medios días antes, porque ese día no había nadie custodiando el Palacio…', '_id': ObjectId('5fa5f4332ab16de1219c7c24')}\n",
      "{'created_at': 'Sat Nov 07 01:11:10 +0000 2020', 'id_str': '1324882048377626624', 'text': 'Nunca falta el “juramento hipocrático”.  A ver pedazo de animal, ¿también quieres que los doctores vayan a hacer tr… https://t.co/cFuJ99O15C', '_id': ObjectId('5fa5f4332ab16de1219c7c25')}\n",
      "{'created_at': 'Sat Nov 07 01:11:10 +0000 2020', 'id_str': '1324882048654450690', 'text': 'RT @RMarisio: El Gran negocio https://t.co/tKqls1Fv7W', '_id': ObjectId('5fa5f4332ab16de1219c7c26')}\n",
      "{'created_at': 'Sat Nov 07 01:11:10 +0000 2020', 'id_str': '1324882048616632322', 'text': '@CNNEE Un mortal al cual se le conceda tanto poder,no cabe en un mundo donde debería existir el valor de la justici… https://t.co/x3wuE02im0', '_id': ObjectId('5fa5f4332ab16de1219c7c27')}\n",
      "{'created_at': 'Sat Nov 07 01:11:10 +0000 2020', 'id_str': '1324882048818016263', 'text': 'RT @RedAMLOmx: Crecerán 100% los espacios para que los médicos se especialicen en el país. Recibirán además de becas, plazas.\\n\\nTambién aume…', '_id': ObjectId('5fa5f4332ab16de1219c7c28')}\n",
      "{'created_at': 'Sat Nov 07 01:11:10 +0000 2020', 'id_str': '1324882048901914625', 'text': '@UniNoticias @netorivasme Todos los rayados histéricos con el Covid deben meterse debajo de sus camas con 10 tapabo… https://t.co/Z5qahBmDZc', '_id': ObjectId('5fa5f4332ab16de1219c7c29')}\n",
      "{'created_at': 'Sat Nov 07 01:11:10 +0000 2020', 'id_str': '1324882049384108032', 'text': 'RT @Roberto_Politik: Que alguien le informe al invasor de Palacio Nacional que a los que él llama adversarios, son sus jefes constitucional…', '_id': ObjectId('5fa5f4332ab16de1219c7c2a')}\n",
      "{'created_at': 'Sat Nov 07 01:11:10 +0000 2020', 'id_str': '1324882049669402624', 'text': 'RT @sultanoreload: NO EXISTE LA MERITOCRACIA PARA ESTOS DELINCUENTES!!!', '_id': ObjectId('5fa5f4332ab16de1219c7c2b')}\n",
      "{'created_at': 'Sat Nov 07 01:11:10 +0000 2020', 'id_str': '1324882050298634240', 'text': 'RT @contra_mentiras: Me cago de risa de la OPO pidiendo renuncias desde el presidente hasta sus ministros. Quien carajo creen que ganó las…', '_id': ObjectId('5fa5f4332ab16de1219c7c2c')}\n",
      "{'created_at': 'Sat Nov 07 01:11:10 +0000 2020', 'id_str': '1324882050533519360', 'text': '@julioastillero Los “abajo firmantes” ya cambiaron de opinión, ahora la censura es “ética periodística”, valiosa y… https://t.co/NIegTGb2YB', '_id': ObjectId('5fa5f4332ab16de1219c7c2d')}\n",
      "{'created_at': 'Sat Nov 07 01:11:10 +0000 2020', 'id_str': '1324882051296862209', 'text': 'RT @lourdeschance: Me han dicho que han tenido problemas de plataforma con el pago móvil provincial, a este también pueden realizar sus don…', '_id': ObjectId('5fa5f4332ab16de1219c7c2e')}\n",
      "{'created_at': 'Sat Nov 07 01:11:10 +0000 2020', 'id_str': '1324882051435204609', 'text': 'RT @Tutife1: @VickyDavilaH Igual que sus familiares Vicky \"mandarina\" Dávila https://t.co/LYL8o4lxzX', '_id': ObjectId('5fa5f4342ab16de1219c7c2f')}\n",
      "{'created_at': 'Sat Nov 07 01:11:10 +0000 2020', 'id_str': '1324882051540070401', 'text': 'RT @cami_garrcia: Coquetear es ser infiel, salir y esconderselo a sus parejas es ser infiel, chatear con amor o sexualidad a espaldas de su…', '_id': ObjectId('5fa5f4342ab16de1219c7c30')}\n",
      "{'created_at': 'Sat Nov 07 01:11:10 +0000 2020', 'id_str': '1324882051888271362', 'text': '@ffelixindro /lanzarse y llenar sus cachetitos de besos', '_id': ObjectId('5fa5f4342ab16de1219c7c31')}\n",
      "{'created_at': 'Sat Nov 07 01:11:11 +0000 2020', 'id_str': '1324882052571934722', 'text': 'Jajajaja @NoticiasRCN se unió a la #LloratonUribista', '_id': ObjectId('5fa5f4342ab16de1219c7c32')}\n",
      "{'created_at': 'Sat Nov 07 01:11:11 +0000 2020', 'id_str': '1324882052915802114', 'text': 'louis me odia, luego de saber esto decidí suicidarme y dejar de ser larrie 😢', '_id': ObjectId('5fa5f4342ab16de1219c7c33')}\n",
      "{'created_at': 'Sat Nov 07 01:11:11 +0000 2020', 'id_str': '1324882053150601216', 'text': 'RT @ramirezvaldez: https://t.co/T826LRw691 La @ssp_sonora implementó programa “Aislamiento sin Violencia”,  para concientizar a ciudadanía…', '_id': ObjectId('5fa5f4342ab16de1219c7c34')}\n",
      "{'created_at': 'Sat Nov 07 01:11:11 +0000 2020', 'id_str': '1324882053167517696', 'text': 'quedémonos con esas personas que nos demuestran lo tan importante que somos en sus vidas https://t.co/n8greKQtYs', '_id': ObjectId('5fa5f4342ab16de1219c7c35')}\n"
     ]
    },
    {
     "name": "stdout",
     "output_type": "stream",
     "text": [
      "{'created_at': 'Sat Nov 07 01:11:11 +0000 2020', 'id_str': '1324882054195056640', 'text': 'RT @lino81lugo: Una niña llena de vida, con deseos de vivir y con tantas cosas por lograr hoy necesita de todos para poder cumplir sus sueñ…', '_id': ObjectId('5fa5f4342ab16de1219c7c36')}\n",
      "{'created_at': 'Sat Nov 07 01:11:11 +0000 2020', 'id_str': '1324882054866219009', 'text': 'RT @SifaHerself: Que vous aimiez Cospiel ou pas on s’en fout, le plus important c’est que Jésus soit prêché', '_id': ObjectId('5fa5f4342ab16de1219c7c37')}\n",
      "{'created_at': 'Sat Nov 07 01:11:11 +0000 2020', 'id_str': '1324882055067545600', 'text': 'RT @AsambleaVE: Roland es un periodista íntegro, fiel a sus valores como ser humano, hombre de paz y un demócrata total. Su convicción por…', '_id': ObjectId('5fa5f4342ab16de1219c7c38')}\n",
      "{'created_at': 'Sat Nov 07 01:11:11 +0000 2020', 'id_str': '1324882055142977537', 'text': 'RT @carlosbardem: Periodistas que sacan pecho corporativo por cómo las tv norteamericanas cortaron ayer a Trump cuando mentía y soltaba bul…', '_id': ObjectId('5fa5f4342ab16de1219c7c39')}\n",
      "{'created_at': 'Sat Nov 07 01:11:11 +0000 2020', 'id_str': '1324882055247745024', 'text': 'RT @nxreh_: Mientras tanto\\ntrolli en sus pensamientos: https://t.co/hu6UYRvaIO', '_id': ObjectId('5fa5f4342ab16de1219c7c3a')}\n",
      "{'created_at': 'Sat Nov 07 01:11:11 +0000 2020', 'id_str': '1324882055772073984', 'text': 'RT @RedAMLOmx: Crecerán 100% los espacios para que los médicos se especialicen en el país. Recibirán además de becas, plazas.\\n\\nTambién aume…', '_id': ObjectId('5fa5f4352ab16de1219c7c3b')}\n",
      "{'created_at': 'Sat Nov 07 01:11:11 +0000 2020', 'id_str': '1324882055797248000', 'text': 'RT @Carloslopezjone: Dice @lopezobrador_ que el recorte de aguinaldo a Burócratas de 40 a 20 días, es voluntariamente a fuerzas...\\n\\nEl que…', '_id': ObjectId('5fa5f4352ab16de1219c7c3c')}\n",
      "{'created_at': 'Sat Nov 07 01:11:11 +0000 2020', 'id_str': '1324882056246145046', 'text': 'RT @SOSFauna: Almendra fue abandonada en la zona de el Vallecito, se nota que esta recién parida y sólo Dios sabrá que fue de sus cachorros…', '_id': ObjectId('5fa5f4352ab16de1219c7c3d')}\n",
      "{'created_at': 'Sat Nov 07 01:11:12 +0000 2020', 'id_str': '1324882056342630403', 'text': 'RT @lelebtslove: Army continúa el stream party para apoyar a Yoongi en las plataformas digitales. \\n\\nÚnanse y compartan sus capturas ⬇️\\n\\n#We…', '_id': ObjectId('5fa5f4352ab16de1219c7c3e')}\n",
      "{'created_at': 'Sat Nov 07 01:11:12 +0000 2020', 'id_str': '1324882056342614017', 'text': \"@Bratzbaddie2 yeah, that's a little sus I trust you until they actually give me actual proof.\", '_id': ObjectId('5fa5f4352ab16de1219c7c3f')}\n",
      "{'created_at': 'Sat Nov 07 01:11:12 +0000 2020', 'id_str': '1324882057038876673', 'text': 'RT @LUIZCFCHAVES: 296 - ELEIÇÕES AMERICANAS . Esclarecimentos. Luciano Cesa. COMPARTILHEM ! https://t.co/PQHadk7u54 via @YouTube', '_id': ObjectId('5fa5f4352ab16de1219c7c40')}\n",
      "{'created_at': 'Sat Nov 07 01:11:12 +0000 2020', 'id_str': '1324882056988463105', 'text': 'RT @benarquitecto: ASOMÓ  EL  católico  egas\\n\\nSI EL MISMITO QUE NO DUERME  POR SUS PREOCUPACIONES CON EL POBRE \\nEL QUE NO DESCANZA POR ANDA…', '_id': ObjectId('5fa5f4352ab16de1219c7c41')}\n",
      "{'created_at': 'Sat Nov 07 01:11:12 +0000 2020', 'id_str': '1324882057210818565', 'text': 'RT @Isabeltate62: @LANACION @alferdez Ok. Los primeros en vacunarse, la clase política, sus familiares y sus cómplices, si no es efectiva n…', '_id': ObjectId('5fa5f4352ab16de1219c7c42')}\n",
      "{'created_at': 'Sat Nov 07 01:11:12 +0000 2020', 'id_str': '1324882057177292808', 'text': 'RT @heraldo2022: \"Una mujer gobernadora regional sería un cambio sustantivo, un enorme avance. Helia es muy cercana a la gente, conoce sus…', '_id': ObjectId('5fa5f4352ab16de1219c7c43')}\n",
      "{'created_at': 'Sat Nov 07 01:11:12 +0000 2020', 'id_str': '1324882057336680448', 'text': 'RT @_VicenteSerrano: ¿Qué pensarían esos que desde México aplauden la censura a @realDonaldTrump si se analizara el retiro de concesiones a…', '_id': ObjectId('5fa5f4352ab16de1219c7c44')}\n",
      "{'created_at': 'Sat Nov 07 01:11:12 +0000 2020', 'id_str': '1324882058137788416', 'text': 'RT @may_v1405: Hola🤍 Uno de los coaches del box al que voy ayer perdió la casa en Salitral de Santa Ana por tanta lluvia. Su esposa dio a l…', '_id': ObjectId('5fa5f4352ab16de1219c7c45')}\n",
      "{'created_at': 'Sat Nov 07 01:11:12 +0000 2020', 'id_str': '1324882058259345408', 'text': '@Aule999 @PRangelMejia @JuanJGarcia99 @ReyDCondimentos @julianblanco111 Que pena pero  el principal efecto del sind… https://t.co/tODy8ArKhN', '_id': ObjectId('5fa5f4352ab16de1219c7c46')}\n",
      "{'created_at': 'Sat Nov 07 01:11:12 +0000 2020', 'id_str': '1324882058448138240', 'text': 'RT @eliott_roca: #MARACAY @destro_ricci @rousrb1986 @Plecll891  AYUDEMOS A LA PEQUEÑA ALBANY A VENCER EL CANCER 🙏❤️', '_id': ObjectId('5fa5f4352ab16de1219c7c47')}\n",
      "{'created_at': 'Sat Nov 07 01:11:12 +0000 2020', 'id_str': '1324882058863316993', 'text': \"RT @vgguks97: RT = 1 VOTO  🗳 \\nDEJEN SUS VOTOS  🗳 \\n\\nI'm voting for BTS for Favorite Social Artist at the #AMAs\\xa0 @BTS_twt\", '_id': ObjectId('5fa5f4352ab16de1219c7c48')}\n",
      "{'created_at': 'Sat Nov 07 01:11:12 +0000 2020', 'id_str': '1324882059278610445', 'text': 'RT @cami_garrcia: Coquetear es ser infiel, salir y esconderselo a sus parejas es ser infiel, chatear con amor o sexualidad a espaldas de su…', '_id': ObjectId('5fa5f4352ab16de1219c7c49')}\n",
      "{'created_at': 'Sat Nov 07 01:11:12 +0000 2020', 'id_str': '1324882059752579078', 'text': 'Mira como celebran las ratas comunistas...', '_id': ObjectId('5fa5f4362ab16de1219c7c4a')}\n",
      "{'created_at': 'Sat Nov 07 01:11:12 +0000 2020', 'id_str': '1324882059865763842', 'text': 'La única verdad es la realidad. \\n\\nComo lo cuenta el compañero @larroqueandres esta es otra de las 734 familias de P… https://t.co/4hjezzwZuq', '_id': ObjectId('5fa5f4362ab16de1219c7c4b')}\n",
      "{'created_at': 'Sat Nov 07 01:11:13 +0000 2020', 'id_str': '1324882060864053248', 'text': 'Se les van encendiendo las bombillas 💡', '_id': ObjectId('5fa5f4362ab16de1219c7c4c')}\n",
      "{'created_at': 'Sat Nov 07 01:11:13 +0000 2020', 'id_str': '1324882060989894659', 'text': 'y el man me rt como sintiendose orgulloso de su irresponssbilidad ¿?', '_id': ObjectId('5fa5f4362ab16de1219c7c4d')}\n",
      "{'created_at': 'Sat Nov 07 01:11:13 +0000 2020', 'id_str': '1324882061195431940', 'text': 'RT @Juanorfull: Alguien tiene idea de los miles de millones que es ese 18%? Y pensar que prometió aumentos a los jubilados, a expensas del…', '_id': ObjectId('5fa5f4362ab16de1219c7c4e')}\n",
      "{'created_at': 'Sat Nov 07 01:11:13 +0000 2020', 'id_str': '1324882061342158857', 'text': 'Jsjajajajajjjajjqjjqjqjqjqjqjqjqjqjqjqjqqjjqj', '_id': ObjectId('5fa5f4362ab16de1219c7c4f')}\n",
      "{'created_at': 'Sat Nov 07 01:11:13 +0000 2020', 'id_str': '1324882061736386563', 'text': 'RT @LibreriaRius: #BuenViernes estos son los cartones de los moneros de México del 6 de noviembre de 2020, publicados tanto en los principa…', '_id': ObjectId('5fa5f4362ab16de1219c7c50')}\n",
      "{'created_at': 'Sat Nov 07 01:11:13 +0000 2020', 'id_str': '1324882062004858880', 'text': 'Desactualizado total la NOTICIA. Lo iniciaron 10 días a partir de que finalizó el Estado de Excepción. Sin importar… https://t.co/cIJsmjmo9R', '_id': ObjectId('5fa5f4362ab16de1219c7c51')}\n",
      "{'created_at': 'Sat Nov 07 01:11:13 +0000 2020', 'id_str': '1324882062965436418', 'text': 'RT @MariasL_18: Bro... Johnny depp se merece todo lo bueno del mundo, para mi y como mucha más gente crecí viendo sus personajes en películ…', '_id': ObjectId('5fa5f4362ab16de1219c7c52')}\n",
      "{'created_at': 'Sat Nov 07 01:11:13 +0000 2020', 'id_str': '1324882063162544134', 'text': 'https://t.co/xEqb16vXQd', '_id': ObjectId('5fa5f4362ab16de1219c7c53')}\n",
      "{'created_at': 'Sat Nov 07 01:11:13 +0000 2020', 'id_str': '1324882063456088064', 'text': 'RT @ArtTatum3: Inviten a sus amigos, hablen con la gente, compartan en los estados de todas las redes sociales que tengan.\\nEl domingo hay q…', '_id': ObjectId('5fa5f4362ab16de1219c7c54')}\n",
      "{'created_at': 'Sat Nov 07 01:11:13 +0000 2020', 'id_str': '1324882063552618498', 'text': 'en el que se adjuntarán los formatos a requisitar y las indicaciones precisas para integrar y enviar sus documentos… https://t.co/sJg26dAtcC', '_id': ObjectId('5fa5f4362ab16de1219c7c55')}\n",
      "{'created_at': 'Sat Nov 07 01:11:13 +0000 2020', 'id_str': '1324882064072724481', 'text': '@Cecilia605040 @edyerc Y qué son los Plenos y las comisiones?\\nQué es lo que dice en sus entrevistas?', '_id': ObjectId('5fa5f4372ab16de1219c7c56')}\n"
     ]
    },
    {
     "name": "stdout",
     "output_type": "stream",
     "text": [
      "{'created_at': 'Sat Nov 07 01:11:14 +0000 2020', 'id_str': '1324882064924151808', 'text': \"RT @Jeongguklogy: Gente no se olviden dejar sus votos para esta premiación, estamos a pocos días de que termine !!! \\n\\nI'm voting for BTS fo…\", '_id': ObjectId('5fa5f4372ab16de1219c7c57')}\n",
      "{'created_at': 'Sat Nov 07 01:11:14 +0000 2020', 'id_str': '1324882065242935297', 'text': 'RT @Fem_Shepard_: HAPPY N7 DAY!!!!!!!\\n\\nMass effect ha sido la saga mas importante de mi vida, significa mas de lo que puedo decir, me ha he…', '_id': ObjectId('5fa5f4372ab16de1219c7c58')}\n",
      "{'created_at': 'Sat Nov 07 01:11:14 +0000 2020', 'id_str': '1324882065750433792', 'text': 'RT @SimnTolomeo2: Tabasco inundado, el ganso en Nalgarit y el #ZopiloteLloron. \\n\\n¿Que culpa tiene Twitter de sus p*tos pedós de pareja?', '_id': ObjectId('5fa5f4372ab16de1219c7c59')}\n",
      "{'created_at': 'Sat Nov 07 01:11:14 +0000 2020', 'id_str': '1324882065364557827', 'text': 'guada presenta un huevo frito pasable.\\nana pau y mail reciben las mejores críticas; sus tres huevos son impecables… https://t.co/nHPSCEVcMx', '_id': ObjectId('5fa5f4372ab16de1219c7c5a')}\n",
      "{'created_at': 'Sat Nov 07 01:11:14 +0000 2020', 'id_str': '1324882065825914880', 'text': \"RT @desiresope: D-10| HAPPY HONGJOONG DAY \\n\\nmy today's vote belongs to Joongie ♡ stream BY. HONGJOONG \\nRT y dejen sus votos abajo ♡\\n\\n[#2020…\", '_id': ObjectId('5fa5f4372ab16de1219c7c5b')}\n",
      "{'created_at': 'Sat Nov 07 01:11:14 +0000 2020', 'id_str': '1324882066316595201', 'text': 'RT @moises2589: Porque no se construyo el hombre nuevo para ese proceso, los consejos comunales deben ir a una refundaciòn producto de un c…', '_id': ObjectId('5fa5f4372ab16de1219c7c5c')}\n",
      "{'created_at': 'Sat Nov 07 01:11:14 +0000 2020', 'id_str': '1324882066408869890', 'text': 'RT @SoyTuPoesia: En medio de mis tormentas aparece él bailando descaradamente, me mira, sonríe, me recuerda para que estamos aquí y sin rem…', '_id': ObjectId('5fa5f4372ab16de1219c7c5d')}\n",
      "{'created_at': 'Sat Nov 07 01:11:14 +0000 2020', 'id_str': '1324882067524562949', 'text': 'RT @MimiRo2002: Su activismo superficial just showed up, Antes de poner en sus redes be sure que lo que este en sus corazones y mentes se v…', '_id': ObjectId('5fa5f4372ab16de1219c7c5e')}\n",
      "{'created_at': 'Sat Nov 07 01:11:14 +0000 2020', 'id_str': '1324882068430577664', 'text': 'RT @sony2332: No sólo están reprimiendo los mensajes de Trump en los medios televisivos o YouTube, están cerrando grupos de facebook, están…', '_id': ObjectId('5fa5f4382ab16de1219c7c5f')}\n",
      "{'created_at': 'Sat Nov 07 01:11:14 +0000 2020', 'id_str': '1324882068740988929', 'text': 'RT @JWulen: 🎬Hilo de Curiosidades de Películas de Studio Ghibli y Películas de Anime que NO sabías \\n\\n1º- En muchas de sus pelis, Miyazaki i…', '_id': ObjectId('5fa5f4382ab16de1219c7c60')}\n",
      "{'created_at': 'Sat Nov 07 01:11:15 +0000 2020', 'id_str': '1324882069378502656', 'text': 'RT @sophiesgone: estamos haciendo una rifa solidaria para esterilizar a unas cuantas mamás gatas callejeritas y en lo posible eventualmente…', '_id': ObjectId('5fa5f4382ab16de1219c7c61')}\n",
      "{'created_at': 'Sat Nov 07 01:11:15 +0000 2020', 'id_str': '1324882069709844480', 'text': 'RT @MartiinsSusy: Pessoal venho aqui pedir ajuda pra pagar uma consulta oftalmológica pro meu BB que tem 6meses, ele está com uma inflamaçã…', '_id': ObjectId('5fa5f4382ab16de1219c7c62')}\n",
      "{'created_at': 'Sat Nov 07 01:11:15 +0000 2020', 'id_str': '1324882070301249538', 'text': 'RT @JosBautist1: Otra vez se demuestra que el gobierno morenista ignora al pueblo, ahora en Tlapa de Comonfort,  donde el edil Dionicio Mer…', '_id': ObjectId('5fa5f4382ab16de1219c7c63')}\n",
      "{'created_at': 'Sat Nov 07 01:11:15 +0000 2020', 'id_str': '1324882070372544513', 'text': 'RT @SoyYoLetizia: Se llama dirigir la opinión , los mexicanos lo sabemos muy bien , venimos de una dictadura perfecta, donde los medios de…', '_id': ObjectId('5fa5f4382ab16de1219c7c64')}\n",
      "{'created_at': 'Sat Nov 07 01:11:15 +0000 2020', 'id_str': '1324882070573903872', 'text': 'RT @Dakota_ferrer: Mis hermosos estare el día domingo atendiendo me vino Andres, pero igual estaré receptando sus mensajes y llamadas\\n📲#098…', '_id': ObjectId('5fa5f4382ab16de1219c7c65')}\n",
      "{'created_at': 'Sat Nov 07 01:11:15 +0000 2020', 'id_str': '1324882070871695361', 'text': 'RT @tainalon: Aparentemente, as eleições americanas estão mobilizando mais certas redes do que as eleições locais.', '_id': ObjectId('5fa5f4382ab16de1219c7c66')}\n",
      "{'created_at': 'Sat Nov 07 01:11:15 +0000 2020', 'id_str': '1324882071173668866', 'text': 'RT @TarquinoPaspala: Felipe Harboe es un infiltrado en la oposición. Ahora montó en cólera porque se estudia una AC contra ministro Briones…', '_id': ObjectId('5fa5f4382ab16de1219c7c67')}\n",
      "{'created_at': 'Sat Nov 07 01:11:15 +0000 2020', 'id_str': '1324882071395897344', 'text': '#NoEmpiecen cornudos', '_id': ObjectId('5fa5f4382ab16de1219c7c68')}\n",
      "{'created_at': 'Sat Nov 07 01:11:15 +0000 2020', 'id_str': '1324882072327118851', 'text': 'RT @carlosbardem: Periodistas que sacan pecho corporativo por cómo las tv norteamericanas cortaron ayer a Trump cuando mentía y soltaba bul…', '_id': ObjectId('5fa5f4382ab16de1219c7c69')}\n",
      "{'created_at': 'Sat Nov 07 01:11:15 +0000 2020', 'id_str': '1324882072264183810', 'text': '@CarLon_2020 @cronicabanqueta Es verdad, era muy bueno 😃\\nEn el dispositivo @RokuPlayerMX hay un canal de eso precis… https://t.co/eZ3NJjBTGw', '_id': ObjectId('5fa5f4392ab16de1219c7c6a')}\n",
      "{'created_at': 'Sat Nov 07 01:11:16 +0000 2020', 'id_str': '1324882074562678784', 'text': 'RT @magicse0kjin: Si ganamos #1 en el ranking de choeaedol por TRES DÍAS MÁS y nos aseguramos el #2 los días que restan el premio será de l…', '_id': ObjectId('5fa5f4392ab16de1219c7c6b')}\n",
      "{'created_at': 'Sat Nov 07 01:11:16 +0000 2020', 'id_str': '1324882074906537990', 'text': 'RT @MareaResidencia: IDA, esta ida del todo y en su esperpentico estado,nos está arrastrando hacia la deshumanizacion social\\n#XLaDignidadSo…', '_id': ObjectId('5fa5f4392ab16de1219c7c6c')}\n",
      "{'created_at': 'Sat Nov 07 01:11:16 +0000 2020', 'id_str': '1324882075556704256', 'text': 'RT @GuaraCuchaFE: Trump no es como el que nos dijo el famoso dicho: \"El tiempo de Dios es perfecto\" y entregó las elecciones de una\\n\\nEse si…', '_id': ObjectId('5fa5f4392ab16de1219c7c6d')}\n",
      "{'created_at': 'Sat Nov 07 01:11:16 +0000 2020', 'id_str': '1324882075623763970', 'text': 'RT @luisnassif: STJ gastou R$ 13,7 milhões com empresa de ex-mulher de Wassef\\nhttps://t.co/mWkNKvf4Ew https://t.co/5DbeMmjcFt', '_id': ObjectId('5fa5f4392ab16de1219c7c6e')}\n",
      "{'created_at': 'Sat Nov 07 01:11:16 +0000 2020', 'id_str': '1324882076634652677', 'text': 'A viafara sería bueno que lo compraran a Jefferson gracias por nada al manco hijueputa ese', '_id': ObjectId('5fa5f43a2ab16de1219c7c6f')}\n",
      "{'created_at': 'Sat Nov 07 01:11:16 +0000 2020', 'id_str': '1324882077238571009', 'text': 'Gomez nada de ver !! Se quedo jugando con rodillones', '_id': ObjectId('5fa5f43a2ab16de1219c7c70')}\n",
      "{'created_at': 'Sat Nov 07 01:11:17 +0000 2020', 'id_str': '1324882078383677440', 'text': 'RT @bettycriticonaa: ATENCION\\n• La FiscaIía ordenó compulsar copias contra M0NTEALEGRE y PERD0M0 por tráfico de infIuencias, abuso de autor…', '_id': ObjectId('5fa5f43a2ab16de1219c7c71')}\n",
      "{'created_at': 'Sat Nov 07 01:11:17 +0000 2020', 'id_str': '1324882078517833731', 'text': 'RT @Leito_82: ¿Soy la única a la que le da vergüenza cruzarse con sus vecinos porque me paso el día  voceando arrabaleramente y deben pensa…', '_id': ObjectId('5fa5f43a2ab16de1219c7c72')}\n",
      "{'created_at': 'Sat Nov 07 01:11:17 +0000 2020', 'id_str': '1324882078429831169', 'text': 'Ella era bella, frágil como una rosa / Él era una bestia, esclavo de sus impulsos https://t.co/mtfAwttY3l', '_id': ObjectId('5fa5f43a2ab16de1219c7c73')}\n",
      "{'created_at': 'Sat Nov 07 01:11:17 +0000 2020', 'id_str': '1324882080216584192', 'text': 'RT @_yugotnojams_: Nada q ver con tanies pero saben que hoy es el cumple de mi papá y le saqué el cuadro para tomar el porte y hacerle un d…', '_id': ObjectId('5fa5f43a2ab16de1219c7c74')}\n",
      "{'created_at': 'Sat Nov 07 01:11:17 +0000 2020', 'id_str': '1324882080711536640', 'text': 'RT @larroqueandres: Natalia, su esposo y sus hijos son una de las 734 familias de Presidente Perón que también firmaron el acta acuerdo con…', '_id': ObjectId('5fa5f43a2ab16de1219c7c75')}\n"
     ]
    },
    {
     "name": "stdout",
     "output_type": "stream",
     "text": [
      "{'created_at': 'Sat Nov 07 01:11:17 +0000 2020', 'id_str': '1324882081214771204', 'text': 'RT @EderSavillon: Seguimos aceptando donaciones 24/7. En mi casa pueden venir a dejar sus donaciones, quien pueda donar me escribe por dm p…', '_id': ObjectId('5fa5f43b2ab16de1219c7c76')}\n",
      "{'created_at': 'Sat Nov 07 01:11:18 +0000 2020', 'id_str': '1324882081592213504', 'text': 'RT @LibreriaRius: #BuenViernes estos son los cartones de los moneros de México del 6 de noviembre de 2020, publicados tanto en los principa…', '_id': ObjectId('5fa5f43b2ab16de1219c7c77')}\n",
      "{'created_at': 'Sat Nov 07 01:11:18 +0000 2020', 'id_str': '1324882081571344384', 'text': 'RT @ve_cne: \"Estamos frente a actividades que certifican la confiabilidad y la transparencia de todo el proceso en sus fases; pre electoral…', '_id': ObjectId('5fa5f43b2ab16de1219c7c78')}\n",
      "{'created_at': 'Sat Nov 07 01:11:18 +0000 2020', 'id_str': '1324882081973989376', 'text': 'RT @SaraRedH: Hola a todes ya compraron sus sabanas de @el_sabanas 😭 le falta para su tratamiento de mañana una suma de dinero 🙌🏻 el sostie…', '_id': ObjectId('5fa5f43b2ab16de1219c7c79')}\n",
      "{'created_at': 'Sat Nov 07 01:11:18 +0000 2020', 'id_str': '1324882082888376323', 'text': 'RT @_VicenteSerrano: ¿Qué pensarían esos que desde México aplauden la censura a @realDonaldTrump si se analizara el retiro de concesiones a…', '_id': ObjectId('5fa5f43b2ab16de1219c7c7a')}\n",
      "{'created_at': 'Sat Nov 07 01:11:18 +0000 2020', 'id_str': '1324882082972233729', 'text': 'RT @JOANARDOO: Abro hilo de sus icons y VAMOS ANTARDO https://t.co/cAFEr5UI1D', '_id': ObjectId('5fa5f43b2ab16de1219c7c7b')}\n",
      "{'created_at': 'Sat Nov 07 01:11:18 +0000 2020', 'id_str': '1324882082997407746', 'text': 'Nos han tratado muy bien”, afirma María Erlinda Aguilar, quien está albergada con sus dos hijas en Expocentro.\\n- “N… https://t.co/OZ0hZztiVS', '_id': ObjectId('5fa5f43b2ab16de1219c7c7c')}\n",
      "{'created_at': 'Sat Nov 07 01:11:18 +0000 2020', 'id_str': '1324882083802537984', 'text': 'RT @RedAMLOmx: Crecerán 100% los espacios para que los médicos se especialicen en el país. Recibirán además de becas, plazas.\\n\\nTambién aume…', '_id': ObjectId('5fa5f43b2ab16de1219c7c7d')}\n",
      "{'created_at': 'Sat Nov 07 01:11:18 +0000 2020', 'id_str': '1324882083790065669', 'text': 'RT @jan_anton9: Walmart a pique!', '_id': ObjectId('5fa5f43b2ab16de1219c7c7e')}\n",
      "{'created_at': 'Sat Nov 07 01:11:18 +0000 2020', 'id_str': '1324882084104638464', 'text': 'Ten fe así será.', '_id': ObjectId('5fa5f43b2ab16de1219c7c7f')}\n",
      "{'created_at': 'Sat Nov 07 01:11:18 +0000 2020', 'id_str': '1324882084549287936', 'text': '@Smokin_skel @MalenaPichon Pregunta para analizar.\\nEsos hombres dicen y afirman lo mismo que sus novias?\\nAlguna vez… https://t.co/rp2PSVWX95', '_id': ObjectId('5fa5f43b2ab16de1219c7c80')}\n",
      "{'created_at': 'Sat Nov 07 01:11:18 +0000 2020', 'id_str': '1324882084863807489', 'text': 'yup', '_id': ObjectId('5fa5f43b2ab16de1219c7c81')}\n",
      "{'created_at': 'Sat Nov 07 01:11:18 +0000 2020', 'id_str': '1324882085560061953', 'text': 'RT @guadavazquez: Ehhh, gobierno de CEOs, siempre beneficiando a sus amigos ricos del sector financiero...Ah, no, pará... https://t.co/zIrH…', '_id': ObjectId('5fa5f43c2ab16de1219c7c82')}\n",
      "{'created_at': 'Sat Nov 07 01:11:19 +0000 2020', 'id_str': '1324882086403186688', 'text': 'RT @jarizabaletaf: Montealegre Lynnet es un tipo indigno que actúa solo con malicia.\\n\\nEs una vergüenza de ser humano que desgasta el aparat…', '_id': ObjectId('5fa5f43c2ab16de1219c7c83')}\n",
      "{'created_at': 'Sat Nov 07 01:11:19 +0000 2020', 'id_str': '1324882087741165568', 'text': 'RT @CarlosValero08: #6nov Mientras los países del mundo desarrollan avances tecnológicos para que sus habitantes vivan mejor, el régimen de…', '_id': ObjectId('5fa5f43c2ab16de1219c7c84')}\n",
      "{'created_at': 'Sat Nov 07 01:11:19 +0000 2020', 'id_str': '1324882088017977351', 'text': '@15Elyza @Aaccdd66 Camren shipper obsesionadas: estudiando marketing y psicología, para saber sobre la industria y… https://t.co/sA0AWbcCIN', '_id': ObjectId('5fa5f43c2ab16de1219c7c85')}\n",
      "{'created_at': 'Sat Nov 07 01:11:19 +0000 2020', 'id_str': '1324882087648747520', 'text': 'Con esta escena se me figura al remedo de dictador (el peje ) así se a de poner cuando alguien saca al sol los trap… https://t.co/9Ixl8p5rxw', '_id': ObjectId('5fa5f43c2ab16de1219c7c86')}\n",
      "{'created_at': 'Sat Nov 07 01:11:19 +0000 2020', 'id_str': '1324882088344969216', 'text': 'Yo diciéndole a la gente que le cortas las alas a sus aves qué ojalá les corten el pie es mi mood de todo el 2020', '_id': ObjectId('5fa5f43c2ab16de1219c7c87')}\n",
      "{'created_at': 'Sat Nov 07 01:11:19 +0000 2020', 'id_str': '1324882088521248770', 'text': 'RT @EstalonRucky: Así el cobarde', '_id': ObjectId('5fa5f43c2ab16de1219c7c88')}\n",
      "{'created_at': 'Sat Nov 07 01:11:19 +0000 2020', 'id_str': '1324882088722575362', 'text': \"RT @QuinDecimXV: @EbenezerNyenwe @HBCUfessions She over here plottin' on a 17-year-old? That's sus as FUCK.\", '_id': ObjectId('5fa5f43c2ab16de1219c7c89')}\n",
      "{'created_at': 'Sat Nov 07 01:11:19 +0000 2020', 'id_str': '1324882088814899200', 'text': 'RT @4pelagatos4: María Paula Romo dio la cara en octubre y sostuvo la institucionalidad, pero Roberto Gómez no termina de comprenderlo. Sus…', '_id': ObjectId('5fa5f43c2ab16de1219c7c8a')}\n",
      "{'created_at': 'Sat Nov 07 01:11:19 +0000 2020', 'id_str': '1324882088483561480', 'text': 'SE BUSCA: Noticias de JacoGarabito Quiere que NOS ENVÍE SUS .... Noticias, Fotos, Videos, Quejas sobre Incidentes e… https://t.co/sn3YYeuFyk', '_id': ObjectId('5fa5f43c2ab16de1219c7c8b')}\n",
      "{'created_at': 'Sat Nov 07 01:11:19 +0000 2020', 'id_str': '1324882089465016320', 'text': 'como hemos podido olvidar el hecho de que jordi wild con 33 años en la polla hizo un vídeo acerca de montar una fie… https://t.co/qzMElb40sC', '_id': ObjectId('5fa5f43d2ab16de1219c7c8c')}\n",
      "{'created_at': 'Sat Nov 07 01:11:20 +0000 2020', 'id_str': '1324882091625025538', 'text': 'RT @TReporta: El niño Estuardo no dejó a su amigo atrás, y lo tomó en sus brazos para cruzar la corriente de la aldea San Francisco, Morale…', '_id': ObjectId('5fa5f43d2ab16de1219c7c8d')}\n",
      "{'created_at': 'Sat Nov 07 01:11:20 +0000 2020', 'id_str': '1324882091767631875', 'text': 'RT @aebiggs: El conserje de nuestro edificio me mostró orgulloso fotos de la nueva parte de su casa - que el mismo construyó con el 10%-  p…', '_id': ObjectId('5fa5f43d2ab16de1219c7c8e')}\n",
      "{'created_at': 'Sat Nov 07 01:11:20 +0000 2020', 'id_str': '1324882092107444224', 'text': 'EL PECADO DE @realDonaldTrump ES DECIR SUS VERDADES A UN MUNDO INMERSO EN LA HIPOCRECIA.\\nTHE SIN OF… https://t.co/jbuOYDu4D0', '_id': ObjectId('5fa5f43d2ab16de1219c7c8f')}\n",
      "{'created_at': 'Sat Nov 07 01:11:20 +0000 2020', 'id_str': '1324882093588045828', 'text': 'RT @gmanen: Recordemos cuando El Mercurio publicó una extensa entrevista a este oscuro personaje, que le hizo uno de sus admiradores en Chi…', '_id': ObjectId('5fa5f43e2ab16de1219c7c90')}\n",
      "{'created_at': 'Sat Nov 07 01:11:21 +0000 2020', 'id_str': '1324882094280077312', 'text': 'RT @abbyhatesdeq: Otros streamers a sus fans: sois unos soles \\n\\nDeqiuV: Sois unos cabrones de alta gama.', '_id': ObjectId('5fa5f43e2ab16de1219c7c91')}\n",
      "{'created_at': 'Sat Nov 07 01:11:21 +0000 2020', 'id_str': '1324882094858903552', 'text': 'RT @CrisAlvarezRod: Hay un hilo que conecta las vidas de Yolanda Ortiz y Micaela García, dos mujeres que militando sus ideales nos enseñan…', '_id': ObjectId('5fa5f43e2ab16de1219c7c92')}\n",
      "{'created_at': 'Sat Nov 07 01:11:21 +0000 2020', 'id_str': '1324882095362215939', 'text': 'RT @yackurg: voy a ir a Canada a ver si puedo fritar en la calle, y orinar, y a creerme duena https://t.co/q3BaEQDpjn', '_id': ObjectId('5fa5f43e2ab16de1219c7c93')}\n",
      "{'created_at': 'Sat Nov 07 01:11:21 +0000 2020', 'id_str': '1324882095680925696', 'text': 'Pense numa humilhação! O cabra que arrotava arrogância, certo que seria ministro do STF, e agora é escrivinhador de… https://t.co/Dc07oilcOB', '_id': ObjectId('5fa5f43e2ab16de1219c7c94')}\n",
      "{'created_at': 'Sat Nov 07 01:11:21 +0000 2020', 'id_str': '1324882095223824385', 'text': 'QEPD Siempre en nuestros corazones. Mis niñas. \\nSólo quiero que sepan que las quiero por encima de todo y todos. \\nN… https://t.co/Ecxtc04kOb', '_id': ObjectId('5fa5f43e2ab16de1219c7c95')}\n",
      "{'created_at': 'Sat Nov 07 01:11:21 +0000 2020', 'id_str': '1324882096062599169', 'text': '@elreytuqueque @dlacalle Las pruebas se las presenta a un juez,no a los defraudadores y sus lacayos.', '_id': ObjectId('5fa5f43e2ab16de1219c7c96')}\n"
     ]
    },
    {
     "name": "stdout",
     "output_type": "stream",
     "text": [
      "{'created_at': 'Sat Nov 07 01:11:21 +0000 2020', 'id_str': '1324882096633110528', 'text': 'RT @GomezGNBD814: #3Nov ✍Pensamiento de nuestro Libertador Simón Bolivar: \"La gloria debe ser insaciable cuando se funda en sus verdaderos…', '_id': ObjectId('5fa5f43e2ab16de1219c7c97')}\n",
      "{'created_at': 'Sat Nov 07 01:11:21 +0000 2020', 'id_str': '1324882097325154304', 'text': 'RT @jgnaredo: Lo sabíamos, pero quedó demostrado ayer y hoy:\\n\\nlos que firmaron el famoso desplegado para defender la libertad de expresión,…', '_id': ObjectId('5fa5f43e2ab16de1219c7c98')}\n",
      "{'created_at': 'Sat Nov 07 01:11:21 +0000 2020', 'id_str': '1324882097115439105', 'text': 'Cuándo me dicen \\n“De dónde va a querer sus taquitos mi princesa?” https://t.co/VIB1CyLt1m', '_id': ObjectId('5fa5f43f2ab16de1219c7c99')}\n",
      "{'created_at': 'Sat Nov 07 01:11:21 +0000 2020', 'id_str': '1324882097530548224', 'text': 'RT @kenmashine: si nominan a @/miqkaa en 2 comentarios se ganan un abrazo de sus píxeles favs', '_id': ObjectId('5fa5f43f2ab16de1219c7c9a')}\n",
      "{'created_at': 'Sat Nov 07 01:11:21 +0000 2020', 'id_str': '1324882098126270466', 'text': 'RT @medel2020: La pequeña abeja Manuelia gayatina cargando sus corbículas (cestas de almacenaje de polen en patas traseras) con polen de Ox…', '_id': ObjectId('5fa5f43f2ab16de1219c7c9b')}\n",
      "{'created_at': 'Sat Nov 07 01:11:21 +0000 2020', 'id_str': '1324882098193313792', 'text': 'RT @marianothekid: como rompen las pelotas no se cansan de romper las pelotas todo el dia rompiendo las pelotas recibi la confirmacion de m…', '_id': ObjectId('5fa5f43f2ab16de1219c7c9c')}\n"
     ]
    },
    {
     "ename": "KeyboardInterrupt",
     "evalue": "",
     "output_type": "error",
     "traceback": [
      "\u001b[0;31m---------------------------------------------------------------------------\u001b[0m",
      "\u001b[0;31mKeyboardInterrupt\u001b[0m                         Traceback (most recent call last)",
      "\u001b[0;32m<ipython-input-16-56bfea83f13d>\u001b[0m in \u001b[0;36m<module>\u001b[0;34m\u001b[0m\n\u001b[1;32m      1\u001b[0m \u001b[0;31m# Iniciando o filtro e gravando os tweets no MongoDB\u001b[0m\u001b[0;34m\u001b[0m\u001b[0;34m\u001b[0m\u001b[0;34m\u001b[0m\u001b[0m\n\u001b[0;32m----> 2\u001b[0;31m \u001b[0mstream\u001b[0m\u001b[0;34m.\u001b[0m\u001b[0mfilter\u001b[0m\u001b[0;34m(\u001b[0m\u001b[0mtrack\u001b[0m\u001b[0;34m=\u001b[0m\u001b[0mkeywords\u001b[0m\u001b[0;34m)\u001b[0m\u001b[0;34m\u001b[0m\u001b[0;34m\u001b[0m\u001b[0m\n\u001b[0m",
      "\u001b[0;32m~/anaconda3/lib/python3.8/site-packages/tweepy/streaming.py\u001b[0m in \u001b[0;36mfilter\u001b[0;34m(self, follow, track, is_async, locations, stall_warnings, languages, encoding, filter_level)\u001b[0m\n\u001b[1;32m    472\u001b[0m             \u001b[0mself\u001b[0m\u001b[0;34m.\u001b[0m\u001b[0mbody\u001b[0m\u001b[0;34m[\u001b[0m\u001b[0;34m'filter_level'\u001b[0m\u001b[0;34m]\u001b[0m \u001b[0;34m=\u001b[0m \u001b[0mfilter_level\u001b[0m\u001b[0;34m.\u001b[0m\u001b[0mencode\u001b[0m\u001b[0;34m(\u001b[0m\u001b[0mencoding\u001b[0m\u001b[0;34m)\u001b[0m\u001b[0;34m\u001b[0m\u001b[0;34m\u001b[0m\u001b[0m\n\u001b[1;32m    473\u001b[0m         \u001b[0mself\u001b[0m\u001b[0;34m.\u001b[0m\u001b[0msession\u001b[0m\u001b[0;34m.\u001b[0m\u001b[0mparams\u001b[0m \u001b[0;34m=\u001b[0m \u001b[0;34m{\u001b[0m\u001b[0;34m'delimited'\u001b[0m\u001b[0;34m:\u001b[0m \u001b[0;34m'length'\u001b[0m\u001b[0;34m}\u001b[0m\u001b[0;34m\u001b[0m\u001b[0;34m\u001b[0m\u001b[0m\n\u001b[0;32m--> 474\u001b[0;31m         \u001b[0mself\u001b[0m\u001b[0;34m.\u001b[0m\u001b[0m_start\u001b[0m\u001b[0;34m(\u001b[0m\u001b[0mis_async\u001b[0m\u001b[0;34m)\u001b[0m\u001b[0;34m\u001b[0m\u001b[0;34m\u001b[0m\u001b[0m\n\u001b[0m\u001b[1;32m    475\u001b[0m \u001b[0;34m\u001b[0m\u001b[0m\n\u001b[1;32m    476\u001b[0m     def sitestream(self, follow, stall_warnings=False,\n",
      "\u001b[0;32m~/anaconda3/lib/python3.8/site-packages/tweepy/streaming.py\u001b[0m in \u001b[0;36m_start\u001b[0;34m(self, is_async)\u001b[0m\n\u001b[1;32m    387\u001b[0m             \u001b[0mself\u001b[0m\u001b[0;34m.\u001b[0m\u001b[0m_thread\u001b[0m\u001b[0;34m.\u001b[0m\u001b[0mstart\u001b[0m\u001b[0;34m(\u001b[0m\u001b[0;34m)\u001b[0m\u001b[0;34m\u001b[0m\u001b[0;34m\u001b[0m\u001b[0m\n\u001b[1;32m    388\u001b[0m         \u001b[0;32melse\u001b[0m\u001b[0;34m:\u001b[0m\u001b[0;34m\u001b[0m\u001b[0;34m\u001b[0m\u001b[0m\n\u001b[0;32m--> 389\u001b[0;31m             \u001b[0mself\u001b[0m\u001b[0;34m.\u001b[0m\u001b[0m_run\u001b[0m\u001b[0;34m(\u001b[0m\u001b[0;34m)\u001b[0m\u001b[0;34m\u001b[0m\u001b[0;34m\u001b[0m\u001b[0m\n\u001b[0m\u001b[1;32m    390\u001b[0m \u001b[0;34m\u001b[0m\u001b[0m\n\u001b[1;32m    391\u001b[0m     \u001b[0;32mdef\u001b[0m \u001b[0mon_closed\u001b[0m\u001b[0;34m(\u001b[0m\u001b[0mself\u001b[0m\u001b[0;34m,\u001b[0m \u001b[0mresp\u001b[0m\u001b[0;34m)\u001b[0m\u001b[0;34m:\u001b[0m\u001b[0;34m\u001b[0m\u001b[0;34m\u001b[0m\u001b[0m\n",
      "\u001b[0;32m~/anaconda3/lib/python3.8/site-packages/tweepy/streaming.py\u001b[0m in \u001b[0;36m_run\u001b[0;34m(self)\u001b[0m\n\u001b[1;32m    287\u001b[0m                     \u001b[0mself\u001b[0m\u001b[0;34m.\u001b[0m\u001b[0msnooze_time\u001b[0m \u001b[0;34m=\u001b[0m \u001b[0mself\u001b[0m\u001b[0;34m.\u001b[0m\u001b[0msnooze_time_step\u001b[0m\u001b[0;34m\u001b[0m\u001b[0;34m\u001b[0m\u001b[0m\n\u001b[1;32m    288\u001b[0m                     \u001b[0mself\u001b[0m\u001b[0;34m.\u001b[0m\u001b[0mlistener\u001b[0m\u001b[0;34m.\u001b[0m\u001b[0mon_connect\u001b[0m\u001b[0;34m(\u001b[0m\u001b[0;34m)\u001b[0m\u001b[0;34m\u001b[0m\u001b[0;34m\u001b[0m\u001b[0m\n\u001b[0;32m--> 289\u001b[0;31m                     \u001b[0mself\u001b[0m\u001b[0;34m.\u001b[0m\u001b[0m_read_loop\u001b[0m\u001b[0;34m(\u001b[0m\u001b[0mresp\u001b[0m\u001b[0;34m)\u001b[0m\u001b[0;34m\u001b[0m\u001b[0;34m\u001b[0m\u001b[0m\n\u001b[0m\u001b[1;32m    290\u001b[0m             \u001b[0;32mexcept\u001b[0m \u001b[0;34m(\u001b[0m\u001b[0mTimeout\u001b[0m\u001b[0;34m,\u001b[0m \u001b[0mssl\u001b[0m\u001b[0;34m.\u001b[0m\u001b[0mSSLError\u001b[0m\u001b[0;34m)\u001b[0m \u001b[0;32mas\u001b[0m \u001b[0mexc\u001b[0m\u001b[0;34m:\u001b[0m\u001b[0;34m\u001b[0m\u001b[0;34m\u001b[0m\u001b[0m\n\u001b[1;32m    291\u001b[0m                 \u001b[0;31m# This is still necessary, as a SSLError can actually be\u001b[0m\u001b[0;34m\u001b[0m\u001b[0;34m\u001b[0m\u001b[0;34m\u001b[0m\u001b[0m\n",
      "\u001b[0;32m~/anaconda3/lib/python3.8/site-packages/tweepy/streaming.py\u001b[0m in \u001b[0;36m_read_loop\u001b[0;34m(self, resp)\u001b[0m\n\u001b[1;32m    337\u001b[0m             \u001b[0mlength\u001b[0m \u001b[0;34m=\u001b[0m \u001b[0;36m0\u001b[0m\u001b[0;34m\u001b[0m\u001b[0;34m\u001b[0m\u001b[0m\n\u001b[1;32m    338\u001b[0m             \u001b[0;32mwhile\u001b[0m \u001b[0;32mnot\u001b[0m \u001b[0mresp\u001b[0m\u001b[0;34m.\u001b[0m\u001b[0mraw\u001b[0m\u001b[0;34m.\u001b[0m\u001b[0mclosed\u001b[0m\u001b[0;34m:\u001b[0m\u001b[0;34m\u001b[0m\u001b[0;34m\u001b[0m\u001b[0m\n\u001b[0;32m--> 339\u001b[0;31m                 \u001b[0mline\u001b[0m \u001b[0;34m=\u001b[0m \u001b[0mbuf\u001b[0m\u001b[0;34m.\u001b[0m\u001b[0mread_line\u001b[0m\u001b[0;34m(\u001b[0m\u001b[0;34m)\u001b[0m\u001b[0;34m\u001b[0m\u001b[0;34m\u001b[0m\u001b[0m\n\u001b[0m\u001b[1;32m    340\u001b[0m                 \u001b[0mstripped_line\u001b[0m \u001b[0;34m=\u001b[0m \u001b[0mline\u001b[0m\u001b[0;34m.\u001b[0m\u001b[0mstrip\u001b[0m\u001b[0;34m(\u001b[0m\u001b[0;34m)\u001b[0m \u001b[0;32mif\u001b[0m \u001b[0mline\u001b[0m \u001b[0;32melse\u001b[0m \u001b[0mline\u001b[0m \u001b[0;31m# line is sometimes None so we need to check here\u001b[0m\u001b[0;34m\u001b[0m\u001b[0;34m\u001b[0m\u001b[0m\n\u001b[1;32m    341\u001b[0m                 \u001b[0;32mif\u001b[0m \u001b[0;32mnot\u001b[0m \u001b[0mstripped_line\u001b[0m\u001b[0;34m:\u001b[0m\u001b[0;34m\u001b[0m\u001b[0;34m\u001b[0m\u001b[0m\n",
      "\u001b[0;32m~/anaconda3/lib/python3.8/site-packages/tweepy/streaming.py\u001b[0m in \u001b[0;36mread_line\u001b[0;34m(self, sep)\u001b[0m\n\u001b[1;32m    198\u001b[0m             \u001b[0;32melse\u001b[0m\u001b[0;34m:\u001b[0m\u001b[0;34m\u001b[0m\u001b[0;34m\u001b[0m\u001b[0m\n\u001b[1;32m    199\u001b[0m                 \u001b[0mstart\u001b[0m \u001b[0;34m=\u001b[0m \u001b[0mlen\u001b[0m\u001b[0;34m(\u001b[0m\u001b[0mself\u001b[0m\u001b[0;34m.\u001b[0m\u001b[0m_buffer\u001b[0m\u001b[0;34m)\u001b[0m\u001b[0;34m\u001b[0m\u001b[0;34m\u001b[0m\u001b[0m\n\u001b[0;32m--> 200\u001b[0;31m             \u001b[0mself\u001b[0m\u001b[0;34m.\u001b[0m\u001b[0m_buffer\u001b[0m \u001b[0;34m+=\u001b[0m \u001b[0mself\u001b[0m\u001b[0;34m.\u001b[0m\u001b[0m_stream\u001b[0m\u001b[0;34m.\u001b[0m\u001b[0mread\u001b[0m\u001b[0;34m(\u001b[0m\u001b[0mself\u001b[0m\u001b[0;34m.\u001b[0m\u001b[0m_chunk_size\u001b[0m\u001b[0;34m)\u001b[0m\u001b[0;34m\u001b[0m\u001b[0;34m\u001b[0m\u001b[0m\n\u001b[0m\u001b[1;32m    201\u001b[0m         \u001b[0;32mreturn\u001b[0m \u001b[0msix\u001b[0m\u001b[0;34m.\u001b[0m\u001b[0mb\u001b[0m\u001b[0;34m(\u001b[0m\u001b[0;34m''\u001b[0m\u001b[0;34m)\u001b[0m\u001b[0;34m\u001b[0m\u001b[0;34m\u001b[0m\u001b[0m\n\u001b[1;32m    202\u001b[0m \u001b[0;34m\u001b[0m\u001b[0m\n",
      "\u001b[0;32m~/anaconda3/lib/python3.8/site-packages/urllib3/response.py\u001b[0m in \u001b[0;36mread\u001b[0;34m(self, amt, decode_content, cache_content)\u001b[0m\n\u001b[1;32m    517\u001b[0m             \u001b[0;32melse\u001b[0m\u001b[0;34m:\u001b[0m\u001b[0;34m\u001b[0m\u001b[0;34m\u001b[0m\u001b[0m\n\u001b[1;32m    518\u001b[0m                 \u001b[0mcache_content\u001b[0m \u001b[0;34m=\u001b[0m \u001b[0;32mFalse\u001b[0m\u001b[0;34m\u001b[0m\u001b[0;34m\u001b[0m\u001b[0m\n\u001b[0;32m--> 519\u001b[0;31m                 \u001b[0mdata\u001b[0m \u001b[0;34m=\u001b[0m \u001b[0mself\u001b[0m\u001b[0;34m.\u001b[0m\u001b[0m_fp\u001b[0m\u001b[0;34m.\u001b[0m\u001b[0mread\u001b[0m\u001b[0;34m(\u001b[0m\u001b[0mamt\u001b[0m\u001b[0;34m)\u001b[0m \u001b[0;32mif\u001b[0m \u001b[0;32mnot\u001b[0m \u001b[0mfp_closed\u001b[0m \u001b[0;32melse\u001b[0m \u001b[0;34mb\"\"\u001b[0m\u001b[0;34m\u001b[0m\u001b[0;34m\u001b[0m\u001b[0m\n\u001b[0m\u001b[1;32m    520\u001b[0m                 if (\n\u001b[1;32m    521\u001b[0m                     \u001b[0mamt\u001b[0m \u001b[0;34m!=\u001b[0m \u001b[0;36m0\u001b[0m \u001b[0;32mand\u001b[0m \u001b[0;32mnot\u001b[0m \u001b[0mdata\u001b[0m\u001b[0;34m\u001b[0m\u001b[0;34m\u001b[0m\u001b[0m\n",
      "\u001b[0;32m~/anaconda3/lib/python3.8/http/client.py\u001b[0m in \u001b[0;36mread\u001b[0;34m(self, amt)\u001b[0m\n\u001b[1;32m    452\u001b[0m             \u001b[0;31m# Amount is given, implement using readinto\u001b[0m\u001b[0;34m\u001b[0m\u001b[0;34m\u001b[0m\u001b[0;34m\u001b[0m\u001b[0m\n\u001b[1;32m    453\u001b[0m             \u001b[0mb\u001b[0m \u001b[0;34m=\u001b[0m \u001b[0mbytearray\u001b[0m\u001b[0;34m(\u001b[0m\u001b[0mamt\u001b[0m\u001b[0;34m)\u001b[0m\u001b[0;34m\u001b[0m\u001b[0;34m\u001b[0m\u001b[0m\n\u001b[0;32m--> 454\u001b[0;31m             \u001b[0mn\u001b[0m \u001b[0;34m=\u001b[0m \u001b[0mself\u001b[0m\u001b[0;34m.\u001b[0m\u001b[0mreadinto\u001b[0m\u001b[0;34m(\u001b[0m\u001b[0mb\u001b[0m\u001b[0;34m)\u001b[0m\u001b[0;34m\u001b[0m\u001b[0;34m\u001b[0m\u001b[0m\n\u001b[0m\u001b[1;32m    455\u001b[0m             \u001b[0;32mreturn\u001b[0m \u001b[0mmemoryview\u001b[0m\u001b[0;34m(\u001b[0m\u001b[0mb\u001b[0m\u001b[0;34m)\u001b[0m\u001b[0;34m[\u001b[0m\u001b[0;34m:\u001b[0m\u001b[0mn\u001b[0m\u001b[0;34m]\u001b[0m\u001b[0;34m.\u001b[0m\u001b[0mtobytes\u001b[0m\u001b[0;34m(\u001b[0m\u001b[0;34m)\u001b[0m\u001b[0;34m\u001b[0m\u001b[0;34m\u001b[0m\u001b[0m\n\u001b[1;32m    456\u001b[0m         \u001b[0;32melse\u001b[0m\u001b[0;34m:\u001b[0m\u001b[0;34m\u001b[0m\u001b[0;34m\u001b[0m\u001b[0m\n",
      "\u001b[0;32m~/anaconda3/lib/python3.8/http/client.py\u001b[0m in \u001b[0;36mreadinto\u001b[0;34m(self, b)\u001b[0m\n\u001b[1;32m    486\u001b[0m \u001b[0;34m\u001b[0m\u001b[0m\n\u001b[1;32m    487\u001b[0m         \u001b[0;32mif\u001b[0m \u001b[0mself\u001b[0m\u001b[0;34m.\u001b[0m\u001b[0mchunked\u001b[0m\u001b[0;34m:\u001b[0m\u001b[0;34m\u001b[0m\u001b[0;34m\u001b[0m\u001b[0m\n\u001b[0;32m--> 488\u001b[0;31m             \u001b[0;32mreturn\u001b[0m \u001b[0mself\u001b[0m\u001b[0;34m.\u001b[0m\u001b[0m_readinto_chunked\u001b[0m\u001b[0;34m(\u001b[0m\u001b[0mb\u001b[0m\u001b[0;34m)\u001b[0m\u001b[0;34m\u001b[0m\u001b[0;34m\u001b[0m\u001b[0m\n\u001b[0m\u001b[1;32m    489\u001b[0m \u001b[0;34m\u001b[0m\u001b[0m\n\u001b[1;32m    490\u001b[0m         \u001b[0;32mif\u001b[0m \u001b[0mself\u001b[0m\u001b[0;34m.\u001b[0m\u001b[0mlength\u001b[0m \u001b[0;32mis\u001b[0m \u001b[0;32mnot\u001b[0m \u001b[0;32mNone\u001b[0m\u001b[0;34m:\u001b[0m\u001b[0;34m\u001b[0m\u001b[0;34m\u001b[0m\u001b[0m\n",
      "\u001b[0;32m~/anaconda3/lib/python3.8/http/client.py\u001b[0m in \u001b[0;36m_readinto_chunked\u001b[0;34m(self, b)\u001b[0m\n\u001b[1;32m    581\u001b[0m         \u001b[0;32mtry\u001b[0m\u001b[0;34m:\u001b[0m\u001b[0;34m\u001b[0m\u001b[0;34m\u001b[0m\u001b[0m\n\u001b[1;32m    582\u001b[0m             \u001b[0;32mwhile\u001b[0m \u001b[0;32mTrue\u001b[0m\u001b[0;34m:\u001b[0m\u001b[0;34m\u001b[0m\u001b[0;34m\u001b[0m\u001b[0m\n\u001b[0;32m--> 583\u001b[0;31m                 \u001b[0mchunk_left\u001b[0m \u001b[0;34m=\u001b[0m \u001b[0mself\u001b[0m\u001b[0;34m.\u001b[0m\u001b[0m_get_chunk_left\u001b[0m\u001b[0;34m(\u001b[0m\u001b[0;34m)\u001b[0m\u001b[0;34m\u001b[0m\u001b[0;34m\u001b[0m\u001b[0m\n\u001b[0m\u001b[1;32m    584\u001b[0m                 \u001b[0;32mif\u001b[0m \u001b[0mchunk_left\u001b[0m \u001b[0;32mis\u001b[0m \u001b[0;32mNone\u001b[0m\u001b[0;34m:\u001b[0m\u001b[0;34m\u001b[0m\u001b[0;34m\u001b[0m\u001b[0m\n\u001b[1;32m    585\u001b[0m                     \u001b[0;32mreturn\u001b[0m \u001b[0mtotal_bytes\u001b[0m\u001b[0;34m\u001b[0m\u001b[0;34m\u001b[0m\u001b[0m\n",
      "\u001b[0;32m~/anaconda3/lib/python3.8/http/client.py\u001b[0m in \u001b[0;36m_get_chunk_left\u001b[0;34m(self)\u001b[0m\n\u001b[1;32m    549\u001b[0m                 \u001b[0mself\u001b[0m\u001b[0;34m.\u001b[0m\u001b[0m_safe_read\u001b[0m\u001b[0;34m(\u001b[0m\u001b[0;36m2\u001b[0m\u001b[0;34m)\u001b[0m  \u001b[0;31m# toss the CRLF at the end of the chunk\u001b[0m\u001b[0;34m\u001b[0m\u001b[0;34m\u001b[0m\u001b[0m\n\u001b[1;32m    550\u001b[0m             \u001b[0;32mtry\u001b[0m\u001b[0;34m:\u001b[0m\u001b[0;34m\u001b[0m\u001b[0;34m\u001b[0m\u001b[0m\n\u001b[0;32m--> 551\u001b[0;31m                 \u001b[0mchunk_left\u001b[0m \u001b[0;34m=\u001b[0m \u001b[0mself\u001b[0m\u001b[0;34m.\u001b[0m\u001b[0m_read_next_chunk_size\u001b[0m\u001b[0;34m(\u001b[0m\u001b[0;34m)\u001b[0m\u001b[0;34m\u001b[0m\u001b[0;34m\u001b[0m\u001b[0m\n\u001b[0m\u001b[1;32m    552\u001b[0m             \u001b[0;32mexcept\u001b[0m \u001b[0mValueError\u001b[0m\u001b[0;34m:\u001b[0m\u001b[0;34m\u001b[0m\u001b[0;34m\u001b[0m\u001b[0m\n\u001b[1;32m    553\u001b[0m                 \u001b[0;32mraise\u001b[0m \u001b[0mIncompleteRead\u001b[0m\u001b[0;34m(\u001b[0m\u001b[0;34mb''\u001b[0m\u001b[0;34m)\u001b[0m\u001b[0;34m\u001b[0m\u001b[0;34m\u001b[0m\u001b[0m\n",
      "\u001b[0;32m~/anaconda3/lib/python3.8/http/client.py\u001b[0m in \u001b[0;36m_read_next_chunk_size\u001b[0;34m(self)\u001b[0m\n\u001b[1;32m    509\u001b[0m     \u001b[0;32mdef\u001b[0m \u001b[0m_read_next_chunk_size\u001b[0m\u001b[0;34m(\u001b[0m\u001b[0mself\u001b[0m\u001b[0;34m)\u001b[0m\u001b[0;34m:\u001b[0m\u001b[0;34m\u001b[0m\u001b[0;34m\u001b[0m\u001b[0m\n\u001b[1;32m    510\u001b[0m         \u001b[0;31m# Read the next chunk size from the file\u001b[0m\u001b[0;34m\u001b[0m\u001b[0;34m\u001b[0m\u001b[0;34m\u001b[0m\u001b[0m\n\u001b[0;32m--> 511\u001b[0;31m         \u001b[0mline\u001b[0m \u001b[0;34m=\u001b[0m \u001b[0mself\u001b[0m\u001b[0;34m.\u001b[0m\u001b[0mfp\u001b[0m\u001b[0;34m.\u001b[0m\u001b[0mreadline\u001b[0m\u001b[0;34m(\u001b[0m\u001b[0m_MAXLINE\u001b[0m \u001b[0;34m+\u001b[0m \u001b[0;36m1\u001b[0m\u001b[0;34m)\u001b[0m\u001b[0;34m\u001b[0m\u001b[0;34m\u001b[0m\u001b[0m\n\u001b[0m\u001b[1;32m    512\u001b[0m         \u001b[0;32mif\u001b[0m \u001b[0mlen\u001b[0m\u001b[0;34m(\u001b[0m\u001b[0mline\u001b[0m\u001b[0;34m)\u001b[0m \u001b[0;34m>\u001b[0m \u001b[0m_MAXLINE\u001b[0m\u001b[0;34m:\u001b[0m\u001b[0;34m\u001b[0m\u001b[0;34m\u001b[0m\u001b[0m\n\u001b[1;32m    513\u001b[0m             \u001b[0;32mraise\u001b[0m \u001b[0mLineTooLong\u001b[0m\u001b[0;34m(\u001b[0m\u001b[0;34m\"chunk size\"\u001b[0m\u001b[0;34m)\u001b[0m\u001b[0;34m\u001b[0m\u001b[0;34m\u001b[0m\u001b[0m\n",
      "\u001b[0;32m~/anaconda3/lib/python3.8/socket.py\u001b[0m in \u001b[0;36mreadinto\u001b[0;34m(self, b)\u001b[0m\n\u001b[1;32m    667\u001b[0m         \u001b[0;32mwhile\u001b[0m \u001b[0;32mTrue\u001b[0m\u001b[0;34m:\u001b[0m\u001b[0;34m\u001b[0m\u001b[0;34m\u001b[0m\u001b[0m\n\u001b[1;32m    668\u001b[0m             \u001b[0;32mtry\u001b[0m\u001b[0;34m:\u001b[0m\u001b[0;34m\u001b[0m\u001b[0;34m\u001b[0m\u001b[0m\n\u001b[0;32m--> 669\u001b[0;31m                 \u001b[0;32mreturn\u001b[0m \u001b[0mself\u001b[0m\u001b[0;34m.\u001b[0m\u001b[0m_sock\u001b[0m\u001b[0;34m.\u001b[0m\u001b[0mrecv_into\u001b[0m\u001b[0;34m(\u001b[0m\u001b[0mb\u001b[0m\u001b[0;34m)\u001b[0m\u001b[0;34m\u001b[0m\u001b[0;34m\u001b[0m\u001b[0m\n\u001b[0m\u001b[1;32m    670\u001b[0m             \u001b[0;32mexcept\u001b[0m \u001b[0mtimeout\u001b[0m\u001b[0;34m:\u001b[0m\u001b[0;34m\u001b[0m\u001b[0;34m\u001b[0m\u001b[0m\n\u001b[1;32m    671\u001b[0m                 \u001b[0mself\u001b[0m\u001b[0;34m.\u001b[0m\u001b[0m_timeout_occurred\u001b[0m \u001b[0;34m=\u001b[0m \u001b[0;32mTrue\u001b[0m\u001b[0;34m\u001b[0m\u001b[0;34m\u001b[0m\u001b[0m\n",
      "\u001b[0;32m~/anaconda3/lib/python3.8/ssl.py\u001b[0m in \u001b[0;36mrecv_into\u001b[0;34m(self, buffer, nbytes, flags)\u001b[0m\n\u001b[1;32m   1239\u001b[0m                   \u001b[0;34m\"non-zero flags not allowed in calls to recv_into() on %s\"\u001b[0m \u001b[0;34m%\u001b[0m\u001b[0;34m\u001b[0m\u001b[0;34m\u001b[0m\u001b[0m\n\u001b[1;32m   1240\u001b[0m                   self.__class__)\n\u001b[0;32m-> 1241\u001b[0;31m             \u001b[0;32mreturn\u001b[0m \u001b[0mself\u001b[0m\u001b[0;34m.\u001b[0m\u001b[0mread\u001b[0m\u001b[0;34m(\u001b[0m\u001b[0mnbytes\u001b[0m\u001b[0;34m,\u001b[0m \u001b[0mbuffer\u001b[0m\u001b[0;34m)\u001b[0m\u001b[0;34m\u001b[0m\u001b[0;34m\u001b[0m\u001b[0m\n\u001b[0m\u001b[1;32m   1242\u001b[0m         \u001b[0;32melse\u001b[0m\u001b[0;34m:\u001b[0m\u001b[0;34m\u001b[0m\u001b[0;34m\u001b[0m\u001b[0m\n\u001b[1;32m   1243\u001b[0m             \u001b[0;32mreturn\u001b[0m \u001b[0msuper\u001b[0m\u001b[0;34m(\u001b[0m\u001b[0;34m)\u001b[0m\u001b[0;34m.\u001b[0m\u001b[0mrecv_into\u001b[0m\u001b[0;34m(\u001b[0m\u001b[0mbuffer\u001b[0m\u001b[0;34m,\u001b[0m \u001b[0mnbytes\u001b[0m\u001b[0;34m,\u001b[0m \u001b[0mflags\u001b[0m\u001b[0;34m)\u001b[0m\u001b[0;34m\u001b[0m\u001b[0;34m\u001b[0m\u001b[0m\n",
      "\u001b[0;32m~/anaconda3/lib/python3.8/ssl.py\u001b[0m in \u001b[0;36mread\u001b[0;34m(self, len, buffer)\u001b[0m\n\u001b[1;32m   1097\u001b[0m         \u001b[0;32mtry\u001b[0m\u001b[0;34m:\u001b[0m\u001b[0;34m\u001b[0m\u001b[0;34m\u001b[0m\u001b[0m\n\u001b[1;32m   1098\u001b[0m             \u001b[0;32mif\u001b[0m \u001b[0mbuffer\u001b[0m \u001b[0;32mis\u001b[0m \u001b[0;32mnot\u001b[0m \u001b[0;32mNone\u001b[0m\u001b[0;34m:\u001b[0m\u001b[0;34m\u001b[0m\u001b[0;34m\u001b[0m\u001b[0m\n\u001b[0;32m-> 1099\u001b[0;31m                 \u001b[0;32mreturn\u001b[0m \u001b[0mself\u001b[0m\u001b[0;34m.\u001b[0m\u001b[0m_sslobj\u001b[0m\u001b[0;34m.\u001b[0m\u001b[0mread\u001b[0m\u001b[0;34m(\u001b[0m\u001b[0mlen\u001b[0m\u001b[0;34m,\u001b[0m \u001b[0mbuffer\u001b[0m\u001b[0;34m)\u001b[0m\u001b[0;34m\u001b[0m\u001b[0;34m\u001b[0m\u001b[0m\n\u001b[0m\u001b[1;32m   1100\u001b[0m             \u001b[0;32melse\u001b[0m\u001b[0;34m:\u001b[0m\u001b[0;34m\u001b[0m\u001b[0;34m\u001b[0m\u001b[0m\n\u001b[1;32m   1101\u001b[0m                 \u001b[0;32mreturn\u001b[0m \u001b[0mself\u001b[0m\u001b[0;34m.\u001b[0m\u001b[0m_sslobj\u001b[0m\u001b[0;34m.\u001b[0m\u001b[0mread\u001b[0m\u001b[0;34m(\u001b[0m\u001b[0mlen\u001b[0m\u001b[0;34m)\u001b[0m\u001b[0;34m\u001b[0m\u001b[0;34m\u001b[0m\u001b[0m\n",
      "\u001b[0;31mKeyboardInterrupt\u001b[0m: "
     ]
    }
   ],
   "source": [
    "# Iniciando o filtro e gravando os tweets no MongoDB\n",
    "stream.filter(track=keywords)"
   ]
  },
  {
   "cell_type": "code",
   "execution_count": 17,
   "metadata": {},
   "outputs": [
    {
     "data": {
      "text/plain": [
       "{'_id': ObjectId('5fa5f42a2ab16de1219c7bb6'),\n",
       " 'created_at': 'Sat Nov 07 01:11:01 +0000 2020',\n",
       " 'id_str': '1324882011287408640',\n",
       " 'text': 'RT @NelsonBrelio1: @VTVcanal8 Aquí la razón  de la caída de trump y sus malandros... https://t.co/XMuDXo6NKD'}"
      ]
     },
     "execution_count": 17,
     "metadata": {},
     "output_type": "execute_result"
    }
   ],
   "source": [
    "col.find_one()"
   ]
  }
 ],
 "metadata": {
  "kernelspec": {
   "display_name": "Python 3",
   "language": "python",
   "name": "python3"
  },
  "language_info": {
   "codemirror_mode": {
    "name": "ipython",
    "version": 3
   },
   "file_extension": ".py",
   "mimetype": "text/x-python",
   "name": "python",
   "nbconvert_exporter": "python",
   "pygments_lexer": "ipython3",
   "version": "3.8.3"
  }
 },
 "nbformat": 4,
 "nbformat_minor": 4
}
